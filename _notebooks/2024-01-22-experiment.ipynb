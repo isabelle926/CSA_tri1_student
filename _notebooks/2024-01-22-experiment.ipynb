{
 "cells": [
  {
   "cell_type": "markdown",
   "metadata": {},
   "source": [
    "---\n",
    "layout: post\n",
    "title: Jupyter Notebook Experiments\n",
    "description: Experiments for project using lessons\n",
    "courses: { csa: {week: 0} }\n",
    "type: plans\n",
    "---"
   ]
  },
  {
   "cell_type": "markdown",
   "metadata": {},
   "source": [
    "## Jupyter Notebook Experiments\n",
    "\n",
    "For this project, which will aim to connect CS students with internships and mentors, we will create many features such as login profiles, live-sharing of files via our platform, etc.\n",
    "\n",
    "Thus, the lessons that we have learned so far will be very useful. "
   ]
  },
  {
   "cell_type": "markdown",
   "metadata": {},
   "source": [
    "### SASS/Javascript Login Page\n",
    "\n",
    "Basic login page:"
   ]
  },
  {
   "cell_type": "markdown",
   "metadata": {},
   "source": [
    "<div class=\"login-container\">\n",
    "    <div class=\"card\">\n",
    "        <h3>Login</h3>\n",
    "        <div class=\"Email\">\n",
    "            <input id=\"signInEmailInput\" class=\"input\" placeholder=\"Email\">\n",
    "        </div>\n",
    "        <div class=\"Password\">\n",
    "            <input id=\"signInPasswordInput\" class=\"input\" placeholder=\"Password\">\n",
    "        </div>\n",
    "        <div class=\"Buttons\">\n",
    "            <button class=\"signInButton\">Login</button>\n",
    "        </div>\n",
    "    </div>\n",
    "</div>"
   ]
  },
  {
   "cell_type": "markdown",
   "metadata": {},
   "source": [
    "In addition to the simple sign up information of email and password we also want to include relevant checkboxes to users such as skills that they have in coding. "
   ]
  },
  {
   "cell_type": "markdown",
   "metadata": {},
   "source": [
    "<body>\n",
    "\n",
    "<h1>CS Languages</h1>\n",
    "\n",
    "<form action=\"/action_page.php\">\n",
    "  <input type=\"checkbox\" id=\"lang1\" name=\"lang1\" value=\"Python\">\n",
    "  <label for=\"lang1\"> Python </label><br>\n",
    "  <input type=\"checkbox\" id=\"lang2\" name=\"lang2\" value=\"Java\">\n",
    "  <label for=\"lang2\"> Java </label><br>\n",
    "  <input type=\"checkbox\" id=\"lang3\" name=\"lang3\" value=\"C++\">\n",
    "  <label for=\"lang3\"> C++ </label><br><br>\n",
    "  <input type=\"submit\" value=\"Submit\">\n",
    "</form>\n",
    "\n",
    "</body>"
   ]
  },
  {
   "cell_type": "code",
   "execution_count": null,
   "metadata": {},
   "outputs": [],
   "source": [
    "function login_user() {\n",
    "    var myHeaders = new Headers();\n",
    "    myHeaders.append(\"Content-Type\", \"application/json\");\n",
    "\n",
    "    var raw = JSON.stringify({\n",
    "        \"email\": document.getElementById(\"signInEmailInput\").value,\n",
    "        \"password\": document.getElementById(\"signInPasswordInput\").value\n",
    "\n",
    "    });\n",
    "    console.log(raw);\n",
    "\n",
    "    var requestOptions = {\n",
    "        method: 'POST',\n",
    "        headers: myHeaders,\n",
    "        credentials: 'include',\n",
    "        body: raw,\n",
    "        redirect: 'follow'\n",
    "    };\n",
    "\n",
    "    fetch(\"http://localhost:8085/authenticate\", requestOptions)\n",
    "    .then(response => {\n",
    "        if (!response.ok) {\n",
    "            const errorMsg = 'Login error: ' + response.status;\n",
    "            console.log(errorMsg);\n",
    "\n",
    "            switch (response.status) {\n",
    "                case 401:\n",
    "                    alert(\"Incorrect username or password\");\n",
    "                    break;\n",
    "                case 403:\n",
    "                    alert(\"Access forbidden. You do not have permission to access this resource.\");\n",
    "                    break;\n",
    "                case 404:\n",
    "                    alert(\"User not found. Please check your credentials.\");\n",
    "                    break;\n",
    "                default:\n",
    "                    alert(\"Login failed. Please try again later.\");\n",
    "            }\n",
    "\n",
    "            return Promise.reject('Login failed');\n",
    "        }\n",
    "        return response.text()\n",
    "    })\n",
    "    .then(result => {\n",
    "        console.log(result);\n",
    "        window.location.href = \"http://127.0.0.1:4100/RIK-CSA/account\";\n",
    "    })\n",
    "    .catch(error => console.error('Error during login:', error));\n",
    "\n",
    "}"
   ]
  },
  {
   "cell_type": "markdown",
   "metadata": {},
   "source": [
    "Users can also choose whether they want to be assigned the role of a student, a mentor, or both. Using these roles, users can connect and communicate with each other based on their preferences. "
   ]
  },
  {
   "cell_type": "code",
   "execution_count": null,
   "metadata": {},
   "outputs": [],
   "source": [
    "public class PersonRole {\n",
    "    @Id\n",
    "    @GeneratedValue(strategy = GenerationType.AUTO)\n",
    "    private Long id;\n",
    "\n",
    "    @Column(unique=true)\n",
    "    private String name;\n",
    "\n",
    "    public PersonRole(String name) {\n",
    "        this.name = name;\n",
    "    }\n",
    "\n",
    "    public static PersonRole[] init() {\n",
    "        PersonRole student = new PersonRole(\"ROLE_STUDENT\");\n",
    "        PersonRole mentor = new PersonRole(\"ROLE_MENTOR\");\n",
    "        PersonRole admin = new PersonRole(\"ROLE_ADMIN\");\n",
    "        PersonRole[] initArray = {student, mentor, admin};\n",
    "        return initArray;\n",
    "    }\n",
    "}"
   ]
  }
 ],
 "metadata": {
  "kernelspec": {
   "display_name": "Java",
   "language": "java",
   "name": "java"
  },
  "language_info": {
   "codemirror_mode": "java",
   "file_extension": ".jshell",
   "mimetype": "text/x-java-source",
   "name": "java",
   "pygments_lexer": "java",
   "version": "20.0.2+9-78"
  },
  "orig_nbformat": 4
 },
 "nbformat": 4,
 "nbformat_minor": 2
}
