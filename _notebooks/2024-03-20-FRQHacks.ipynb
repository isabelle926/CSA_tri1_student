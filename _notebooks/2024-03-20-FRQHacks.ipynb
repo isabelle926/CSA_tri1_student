{
 "cells": [
  {
   "cell_type": "markdown",
   "metadata": {},
   "source": [
    "# Question 1: Primitive Types vs Reference Types (Unit 1)\n",
    "\n",
    "Situation: You are developing a banking application where you need to represent customer information. You have decided to use both primitive types and reference types for this purpose.\n",
    "\n",
    "(a) Define primitive types and reference types in Java. Provide examples of each.\n",
    "\n",
    "(b) Explain the differences between primitive types and reference types in terms of memory allocation and usage in Java programs.\n",
    "\n",
    "(c) Code:\n",
    "\n",
    "You have a method ```calculateInterest``` that takes a primitive ```double``` type representing the principal amount and a reference type ```Customer``` representing the customer information. Write the method signature and the method implementation. Include comments to explain your code."
   ]
  },
  {
   "cell_type": "markdown",
   "metadata": {},
   "source": [
    "### A:\n",
    "A primitive type in Java is the most basic data type, with the 8 being the following: boolean, byte, char, short, int, long, float, and double. These are the most basic building blocks of data manipulation in Java. \n",
    "- For example: \n",
    "    - ```int num = 3;```\n",
    "    - ```char letter = \"h\";```\n",
    "    - ```boolean isOnline = false;```\n",
    "\n",
    "A reference type in Java, on the other hand, is a data type that refers to an object in memory rather than holding the actual value itself. These types are also known as non-primitive types or object types. Reference types include classes, interfaces, arrays, and enumerations. Example code using reference types below:\n",
    "\n",
    "```java\n",
    "// Defining a reference type - Class\n",
    "class Person {\n",
    "    String name;\n",
    "    int age;\n",
    "\n",
    "    // Constructor\n",
    "    public Person(String name, int age) {\n",
    "        this.name = name;\n",
    "        this.age = age;\n",
    "    }\n",
    "\n",
    "    // Method to display information about person\n",
    "    public void displayInfo() {\n",
    "        System.out.println(\"Name: \" + name + \", Age: \" + age);\n",
    "    }\n",
    "}\n",
    "\n",
    "public class Main {\n",
    "    public static void main(String[] args) {\n",
    "        // Creating an instance of the Person class\n",
    "        Person person1 = new Person(\"Isabelle\", 17);\n",
    "\n",
    "        // Using reference variable to access methods and properties of the object\n",
    "        person1.displayInfo(); // Output: Name: Isabelle, Age: 17\n",
    "    }\n",
    "}\n",
    "```\n"
   ]
  },
  {
   "cell_type": "markdown",
   "metadata": {},
   "source": [
    "### B:\n",
    "In Java, primitive types and reference types differ significantly in terms of memory handling and usage. Primitive types directly store their values in memory, occupying a fixed amount of space on the stack. They are ideal for simple data manipulation and arithmetic operations but cannot directly call methods or represent complex structures. Reference types, on the other hand, store memory addresses pointing to objects on the heap. These types, such as classes and arrays, enable the creation of complex data structures and facilitate object-oriented programming paradigms. Reference types allow for method invocation, property access, and complex operations on objects, making them indispensable for modeling real-world entities. Moreover, while primitive types cannot be null and are managed by the compiler, reference types can hold a null value and are managed by the JVM through garbage collection, ensuring efficient memory utilization and deallocation.\n",
    "\n",
    "Understanding the distinction between primitive and reference types is crucial for efficient memory management and designing robust Java programs. Primitive types are lightweight and directly store values, while reference types enable the creation of complex data structures by storing memory addresses to objects. By leveraging the strengths of each type, developers can create efficient and flexible applications that handle data and objects effectively, optimizing memory usage and enhancing overall performance."
   ]
  },
  {
   "cell_type": "markdown",
   "metadata": {},
   "source": [
    "### C:"
   ]
  },
  {
   "cell_type": "code",
   "execution_count": 1,
   "metadata": {
    "vscode": {
     "languageId": "java"
    }
   },
   "outputs": [
    {
     "name": "stdout",
     "output_type": "stream",
     "text": [
      "Calculating interest for customer: Isabelle\n",
      "Interest earned: $74.0736\n"
     ]
    }
   ],
   "source": [
    "// Customer class representing customer information\n",
    "class Customer {\n",
    "    private String name;\n",
    "\n",
    "    // Constructor\n",
    "    public Customer(String name) {\n",
    "        this.name = name;\n",
    "    }\n",
    "\n",
    "    // Getter method for name\n",
    "    public String getName() {\n",
    "        return name;\n",
    "    }\n",
    "}\n",
    "\n",
    "// Main class\n",
    "public class InterestCalculator {\n",
    "    // Method signature for calculateInterest method\n",
    "    public double calculateInterest(double principalAmount, Customer customer) {\n",
    "        // Constants representing interest rate and minimum balance\n",
    "        final double INTEREST_RATE = 0.06; // 6% interest rate\n",
    "        final double MINIMUM_BALANCE = 1000.0; // Minimum balance required for interest calculation\n",
    "\n",
    "        // Check if the principal amount is greater than or equal to the minimum balance\n",
    "        if (principalAmount >= MINIMUM_BALANCE) {\n",
    "            // Calculate interest based on the principal amount and interest rate\n",
    "            double interest = principalAmount * INTEREST_RATE;\n",
    "\n",
    "            // Display information about the customer\n",
    "            System.out.println(\"Calculating interest for customer: \" + customer.getName());\n",
    "\n",
    "            // Return the calculated interest\n",
    "            return interest;\n",
    "        } else {\n",
    "            // If the principal amount is below the minimum balance, no interest is earned\n",
    "            System.out.println(\"Principal amount is below the minimum balance. No interest earned.\");\n",
    "            return 0.0;\n",
    "        }\n",
    "    }\n",
    "\n",
    "    // Main method\n",
    "    public static void main(String[] args) {\n",
    "        // Create a new instance of Customer\n",
    "        Customer customer1 = new Customer(\"Isabelle\");\n",
    "\n",
    "        // Create an instance of InterestCalculator\n",
    "        InterestCalculator calculator = new InterestCalculator();\n",
    "\n",
    "        // Calculate interest for a principal amount\n",
    "        double interest = calculator.calculateInterest(1234.56, customer1);\n",
    "\n",
    "        // Display the calculated interest\n",
    "        System.out.println(\"Interest earned: $\" + interest);\n",
    "    }\n",
    "}\n",
    "\n",
    "InterestCalculator.main(null);"
   ]
  },
  {
   "cell_type": "markdown",
   "metadata": {},
   "source": [
    "# Question 3: Array (Unit 6)\n",
    "\n",
    "Situation: You are developing a student management system where you need to store and analyze the grades of students in a class.\n",
    "\n",
    "(a) Define an array in Java. Explain its significance and usefulness in programming.\n",
    "\n",
    "(b) Code:\n",
    "\n",
    "You need to implement a method ```calculateAverageGrade``` that takes an array ```grades``` of integers representing student grades and returns the average of all the elements in the array. Write the method signature and the method implementation. Include comments to explain your code."
   ]
  },
  {
   "cell_type": "markdown",
   "metadata": {},
   "source": [
    "### A:\n",
    "In Java, an array is a data structure that allows you to store multiple values of the same data type under a single variable name. Arrays are significant and useful in programming for several reasons:\n",
    "\n",
    "1. Grouping Data: Arrays provide a convenient way to group related data elements together. For example, you can store grades of students, coordinates in a multi-dimensional space, or a collection of names using arrays.\n",
    "\n",
    "2. Random Access: Elements in an array can be accessed randomly using their index. This allows for efficient retrieval and manipulation of data stored in the array.\n",
    "\n",
    "3. Efficient Memory Usage: Arrays allocate memory in a contiguous block, making memory management more efficient compared to individual variables.\n",
    "\n",
    "4. Iteration: Arrays can be easily traversed using loops, allowing you to perform operations on each element of the array sequentially.\n",
    "\n",
    "5. Passing Arrays to Methods: Arrays can be passed as arguments to methods, enabling modular and reusable code."
   ]
  },
  {
   "cell_type": "markdown",
   "metadata": {},
   "source": [
    "### B:"
   ]
  },
  {
   "cell_type": "code",
   "execution_count": 2,
   "metadata": {
    "vscode": {
     "languageId": "java"
    }
   },
   "outputs": [
    {
     "name": "stdout",
     "output_type": "stream",
     "text": [
      "Average Grade: 84.8\n"
     ]
    }
   ],
   "source": [
    "public class GradeAnalyzer {\n",
    "    // Method signature for calculateAverageGrade method\n",
    "    public double calculateAverageGrade(int[] grades) {\n",
    "        // Check if the array is empty\n",
    "        if (grades.length == 0) {\n",
    "            // If the array is empty, return 0 as average\n",
    "            System.out.println(\"No grades found. Returning 0 as average.\");\n",
    "            return 0.0;\n",
    "        }\n",
    "\n",
    "        // Variable to store the sum of grades\n",
    "        int sum = 0;\n",
    "\n",
    "        // Calculate the sum of grades\n",
    "        for (int grade : grades) {\n",
    "            sum += grade;\n",
    "        }\n",
    "\n",
    "        // Calculate the average grade\n",
    "        double average = (double) sum / grades.length;\n",
    "\n",
    "        // Return the average grade\n",
    "        return average;\n",
    "    }\n",
    "\n",
    "    // Main method for testing the calculateAverageGrade method\n",
    "    public static void main(String[] args) {\n",
    "        // Example usage: grades of students\n",
    "        int[] studentGrades = {75, 99, 71, 83, 96};\n",
    "\n",
    "        // Create an instance of GradeAnalyzer\n",
    "        GradeAnalyzer analyzer = new GradeAnalyzer();\n",
    "\n",
    "        // Calculate and display the average grade\n",
    "        double averageGrade = analyzer.calculateAverageGrade(studentGrades);\n",
    "        System.out.println(\"Average Grade: \" + averageGrade);\n",
    "    }\n",
    "}\n",
    "\n",
    "GradeAnalyzer.main(null);"
   ]
  },
  {
   "cell_type": "code",
   "execution_count": null,
   "metadata": {
    "vscode": {
     "languageId": "java"
    }
   },
   "outputs": [],
   "source": []
  }
 ],
 "metadata": {
  "kernelspec": {
   "display_name": "Java",
   "language": "java",
   "name": "java"
  },
  "language_info": {
   "codemirror_mode": "java",
   "file_extension": ".jshell",
   "mimetype": "text/x-java-source",
   "name": "Java",
   "pygments_lexer": "java",
   "version": "20.0.2+9-78"
  },
  "orig_nbformat": 4
 },
 "nbformat": 4,
 "nbformat_minor": 2
}
