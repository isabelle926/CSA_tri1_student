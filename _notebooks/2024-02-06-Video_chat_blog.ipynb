{
 "cells": [
  {
   "cell_type": "markdown",
   "metadata": {},
   "source": [
    "---\n",
    "toc: true\n",
    "layout: post\n",
    "title: Interview Function Implementation (Frontend)\n",
    "description: Documenting step by step process when creating the interview function\n",
    "type: tangibles\n",
    "categories: [Java, Tri 2]\n",
    "tags: [Markdown, Blog]\n",
    "courses: { csa: {week: 20} }\n",
    "---"
   ]
  },
  {
   "cell_type": "markdown",
   "metadata": {},
   "source": [
    "My team's website for this trimester, Jinder, features an interview function that allows users to host video calls and join them. In addition, they will be able to see users who are currently online and set up meetings with interviewers/interviewees. \n",
    "\n",
    "This blog will focus on the frontend side of this feature. To learn more about the process for developing the backend for this feature, navigate to [Interview Function Implementation (Backend)](link)"
   ]
  },
  {
   "cell_type": "markdown",
   "metadata": {},
   "source": [
    "First, let's make some basic HTML for our 'Interview Home' page, which is where users will navigate to in order to join/host meetings. "
   ]
  },
  {
   "cell_type": "markdown",
   "metadata": {},
   "source": [
    "```html\n",
    "<html lang=\"en\">\n",
    "<head>\n",
    "  <meta charset=\"UTF-8\">\n",
    "  <meta name=\"viewport\" content=\"width=device-width, initial-scale=1.0\">\n",
    "  <title>Connected Users</title>\n",
    "  <link rel=\"stylesheet\" href=\"/css/styles.css\">\n",
    "  <link rel=\"stylesheet\" href=\"/css/index.css\">\n",
    "  <link rel=\"stylesheet\" href=\"https://cdnjs.cloudflare.com/ajax/libs/font-awesome/4.7.0/css/font-awesome.min.css\">\n",
    "</head>\n",
    "<body>\n",
    "<div class=\"container\">\n",
    "  <div class=\"image-container\">\n",
    "    <img src=\"https://images.idgesg.net/images/article/2020/04/zoom_video_conferencing_online_meeting_remote_workers_one_user_connected_via_laptop_with_a_grid_of_twelve_participants_on_screen_2400x1600-100837446-large.jpg?auto=webp&quality=85,70\" alt=\"Image\">\n",
    "  </div>\n",
    "\n",
    "  <div class=\"main\">\n",
    "    <div class=\"new-meeting\">\n",
    "      <button id=\"newMeetingBtn\">Create a New Meeting</button>\n",
    "      <div class=\"join-meeting\">\n",
    "        <input type=\"text\" placeholder=\"Meeting ID\" id=\"meetingName\">\n",
    "        <button id=\"joinMeetingBtn\">Join</button>\n",
    "      </div>\n",
    "    </div>\n",
    "    <div class=\"connected-users\">\n",
    "      <button id=\"logoutBtn\">Logout</button>\n",
    "      <h2>Connected Users</h2>\n",
    "      <ul id=\"userList\"></ul>\n",
    "    </div>\n",
    "  </div>\n",
    "</div>\n",
    "```"
   ]
  },
  {
   "cell_type": "markdown",
   "metadata": {},
   "source": [
    "With this, I've created a table to list connected users, a button to create meetings, a place to put Meeting IDs to join meetings, and a logout button. "
   ]
  },
  {
   "cell_type": "markdown",
   "metadata": {},
   "source": [
    "Before I put in the script, let me plan exactly what I want to happen with the website:\n",
    "- Since users must be logged in for the feature to work correctly, I want the page to detect whether users are logged in or not and automatically redirect the user to the login page if they are not logged in\n",
    "- Once users are logged in, their status is changed to \"online.\" I want the \"Connected Users\" table to show all users that currently have the status \"online\"\n",
    "- After creating a meeting, the website will automatically insert the username of whoever is creating the meeting, so it should be able to pull usernames from the backend\n",
    "- The join button should be able to function similarly\n",
    "\n",
    "Now, let's put in the javascript for the page:"
   ]
  },
  {
   "cell_type": "markdown",
   "metadata": {},
   "source": [
    "```html\n",
    "<script>\n",
    "  function loadAndDisplayUsers() {\n",
    "    // check if the user is connected\n",
    "    const connectedUser = localStorage.getItem('connectedUser');\n",
    "    if (!connectedUser) {\n",
    "        window.location = 'login/';\n",
    "        return;\n",
    "    }\n",
    "    const userListElement = document.getElementById(\"userList\");\n",
    "    // Clear any existing content in the userListElement\n",
    "    userListElement.innerHTML = \"Loading...\";\n",
    "    // Retrieve the userList from Local Storage\n",
    "    fetch('http://localhost:8020/api/v1/users')\n",
    "        .then((response) => {\n",
    "            return response.json();\n",
    "        })\n",
    "        .then((data) => {\n",
    "            console.log(data);\n",
    "            displayUsers(data, userListElement);\n",
    "        });\n",
    "  }\n",
    "  function displayUsers(userList, userListElement) {\n",
    "      userListElement.innerHTML = \"\";\n",
    "      // Loop through the userList and create list items to display each user\n",
    "      userList.forEach(user => {\n",
    "          const listItem = document.createElement(\"li\");\n",
    "          listItem.innerHTML = `\n",
    "                  <div>\n",
    "                      <i class=\"fa fa-user-circle\"></i>\n",
    "                      ${user.username} <i class=\"user-email\">(${user.email})</i>\n",
    "                  </div>\n",
    "                  <i class=\"fa fa-lightbulb-o ${user.status === \"online\" ? \"online\" : \"offline\"}\"></i>\n",
    "              `;\n",
    "          userListElement.appendChild(listItem);\n",
    "      });\n",
    "  }\n",
    "  // Call the loadAndDisplayUsers function when the page loads\n",
    "  window.addEventListener(\"load\", loadAndDisplayUsers);\n",
    "  function handleLogout() {\n",
    "      fetch('http://localhost:8020/api/v1/users/logout', {\n",
    "          method: 'POST',\n",
    "          headers: {\n",
    "              'Content-Type': 'application/json'\n",
    "          },\n",
    "          body: localStorage.getItem('connectedUser')\n",
    "      })\n",
    "          .then((response) => {\n",
    "              return response;\n",
    "          })\n",
    "          .then((data) => {\n",
    "              localStorage.removeItem('connectedUser');\n",
    "              window.location.href = \"login/\";\n",
    "          });\n",
    "  }\n",
    "  const logoutBtn = document.getElementById(\"logoutBtn\");\n",
    "  logoutBtn.addEventListener(\"click\", handleLogout);\n",
    "  function handleNewMeeting() {\n",
    "    const connectedUserData = localStorage.getItem('connectedUser');\n",
    "    if (!connectedUserData) {\n",
    "        console.error('No connected user data found in local storage.');\n",
    "        return;\n",
    "    }\n",
    "    try {\n",
    "        const connectedUser = JSON.parse(connectedUserData);\n",
    "        window.open(`videocall?username=${connectedUser.username}`, \"_blank\");\n",
    "    } catch (error) {\n",
    "        console.error('Error parsing connected user data:', error);\n",
    "    }\n",
    "  }\n",
    "  // Attach the handleNewMeeting function to the \"Create a New Meeting\" button\n",
    "  const newMeetingBtn = document.getElementById(\"newMeetingBtn\");\n",
    "  newMeetingBtn.addEventListener(\"click\", handleNewMeeting);\n",
    "  function handleJoinMeeting() {\n",
    "      const roomId = document.getElementById(\"meetingName\").value;\n",
    "      const connectedUser = JSON.parse(localStorage.getItem('connectedUser'));\n",
    "      const url = `videocall?roomID=${roomId}&username=${connectedUser.username}`;\n",
    "      window.open(url, \"_blank\");\n",
    "  }\n",
    "  const joinMeetingBtn = document.getElementById(\"joinMeetingBtn\");\n",
    "  joinMeetingBtn.addEventListener(\"click\", handleJoinMeeting);\n",
    "</script>\n",
    "```"
   ]
  },
  {
   "cell_type": "markdown",
   "metadata": {},
   "source": []
  }
 ],
 "metadata": {
  "kernelspec": {
   "display_name": "Java",
   "language": "java",
   "name": "java"
  },
  "language_info": {
   "name": "java"
  },
  "orig_nbformat": 4
 },
 "nbformat": 4,
 "nbformat_minor": 2
}
