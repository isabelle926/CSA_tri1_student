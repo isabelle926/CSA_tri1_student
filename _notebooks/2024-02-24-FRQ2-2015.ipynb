{
 "cells": [
  {
   "cell_type": "markdown",
   "metadata": {},
   "source": [
    "---\n",
    "toc: true\n",
    "layout: post\n",
    "title: 2015 Practice FRQ 2\n",
    "type: tangibles\n",
    "categories: [AP Test Prep, Java, Tri 2]\n",
    "tags: [Markdown, Blog]\n",
    "courses: { csa: {week: 24} }\n",
    "---"
   ]
  },
  {
   "cell_type": "markdown",
   "metadata": {},
   "source": [
    "Consider a guessing game in which a player tries to guess a hidden word. The hidden word contains only capital letters and has a length known to the player. A guess contains only capital letters and has the same length as the hidden word.\n",
    "\n",
    "After a guess is made, the player is given a hint that is based on a comparison between the hidden word and the guess. Each position in the hint contains a character that corresponds to the letter in the same position in the guess. The following rules determine the characters that appear in the hint.\n",
    "\n",
    "The HiddenWord class will be used to represent the hidden word in the game. The hidden word is passed to the constructor. The class contains a method, getHint, that takes a guess and produces a hint. For example, suppose the variable puzzle is declared as follows.\n",
    "\n",
    "```HiddenWord puzzle = new HiddenWord(\"HARPS\");```\n",
    "\n",
    "The following table shows several guesses and the hints that would be produced.\n",
    "\n",
    "Write the complete HiddenWord class, including any necessary instance variables, its constructor, and the method, getHint, described above.You may assume that the length of the guess is the same as the length of the hidden word."
   ]
  },
  {
   "cell_type": "code",
   "execution_count": 1,
   "metadata": {},
   "outputs": [
    {
     "name": "stdout",
     "output_type": "stream",
     "text": [
      "H*++*\n",
      "H****\n",
      "HARPS\n"
     ]
    }
   ],
   "source": [
    "public class HiddenWord{\n",
    "\n",
    "    private String word;\n",
    "\n",
    "    public HiddenWord(String word){\n",
    "        this.word = word;\n",
    "    } \n",
    "\n",
    "    public boolean inWord(char charAtWord){\n",
    "        for(int i = 0; i < this.word.length(); i++){\n",
    "            if(this.word.charAt(i) == charAtWord){\n",
    "                return true;\n",
    "            }\n",
    "        }\n",
    "        return false;\n",
    "    }\n",
    "\n",
    "    public boolean isChar(char charAtWord, int index){\n",
    "        if(this.word.charAt(index) == charAtWord){\n",
    "            return true;\n",
    "        }\n",
    "        return false;\n",
    "    }\n",
    "\n",
    "    public String getHint(String guess){  \n",
    "        String returnString = \"\" ;\n",
    "        for (int i = 0; i < this.word.length(); i++){\n",
    "            char currChar = guess.charAt(i);\n",
    "            if(isChar(currChar, i)){\n",
    "                returnString += currChar;\n",
    "            }\n",
    "\n",
    "            else if (inWord(currChar)){\n",
    "                returnString += '+';\n",
    "            }\n",
    "\n",
    "            else {\n",
    "                returnString += '*';\n",
    "            }\n",
    "        }\n",
    "        return returnString;\n",
    "    }\n",
    "\n",
    "    public static void main(String[] args){\n",
    "        // testing with above example\n",
    "        HiddenWord harps = new HiddenWord(\"HARPS\");\n",
    "\n",
    "        System.out.println(harps.getHint(\"HEART\"));\n",
    "        System.out.println(harps.getHint(\"HELLO\"));\n",
    "        System.out.println(harps.getHint(\"HARPS\"));\n",
    "    }\n",
    "\n",
    "}\n",
    "\n",
    "HiddenWord.main(null);"
   ]
  },
  {
   "cell_type": "markdown",
   "metadata": {},
   "source": []
  }
 ],
 "metadata": {
  "kernelspec": {
   "display_name": "Java",
   "language": "java",
   "name": "java"
  },
  "language_info": {
   "codemirror_mode": "java",
   "file_extension": ".jshell",
   "mimetype": "text/x-java-source",
   "name": "java",
   "pygments_lexer": "java",
   "version": "20.0.2+9-78"
  },
  "orig_nbformat": 4
 },
 "nbformat": 4,
 "nbformat_minor": 2
}
