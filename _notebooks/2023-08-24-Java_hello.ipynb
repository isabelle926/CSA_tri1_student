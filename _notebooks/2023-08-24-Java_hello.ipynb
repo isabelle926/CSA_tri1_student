{
 "cells": [
  {
   "cell_type": "markdown",
   "id": "062a65ac",
   "metadata": {},
   "source": [
    "---\n",
    "toc: true\n",
    "layout: none\n",
    "title: Java Hello\n",
    "description: Java Hello Hacks\n",
    "type: tangibles\n",
    "courses: { csse: {week: 0}, csp: {week: 0, categories: [4.A]}, csa: {week: 1} }\n",
    "categories: [C1.4]\n",
    "---"
   ]
  },
  {
   "cell_type": "code",
   "execution_count": 1,
   "id": "36042a29-fdf7-4196-ae83-75be6d4f7f41",
   "metadata": {
    "vscode": {
     "languageId": "java"
    }
   },
   "outputs": [
    {
     "name": "stdout",
     "output_type": "stream",
     "text": [
      "Hello World!\n"
     ]
    }
   ],
   "source": [
    "// Define Static Method within a Class\n",
    "public class HelloStatic {\n",
    "    // Java standard runtime entry point\n",
    "    public static void main(String[] args) {    \n",
    "        System.out.println(\"Hello World!\");\n",
    "    }\n",
    "}\n",
    "// A method call allows us to execute code that is wrapped in Class\n",
    "HelloStatic.main(null);   // Class prefix allows reference of Static Method"
   ]
  },
  {
   "cell_type": "code",
   "execution_count": 2,
   "id": "c06d3d3b-e057-4be7-847e-4bf5342cd20e",
   "metadata": {
    "vscode": {
     "languageId": "java"
    }
   },
   "outputs": [
    {
     "name": "stdout",
     "output_type": "stream",
     "text": [
      "Hello, World!\n"
     ]
    }
   ],
   "source": [
    "// Define Class with Constructor returning Object\n",
    "public class HelloObject {\n",
    "    private String hello;   // instance attribute or variable\n",
    "    public HelloObject() {  // constructor\n",
    "        hello = \"Hello, World!\";\n",
    "    }\n",
    "    public String getHello() {  // getter, returns value from inside the object\n",
    "        return this.hello;  // return String from object\n",
    "    }\n",
    "    public static void main(String[] args) {    \n",
    "        HelloObject ho = new HelloObject(); // Instance of Class (ho) is an Object via \"new HelloObject()\"\n",
    "        System.out.println(ho.getHello()); // Object allows reference to public methods and data\n",
    "    }\n",
    "}\n",
    "// IJava activation\n",
    "HelloObject.main(null);"
   ]
  },
  {
   "cell_type": "code",
   "execution_count": 3,
   "id": "0f5877bd-4903-4f6a-9870-7c00ab4be501",
   "metadata": {
    "vscode": {
     "languageId": "java"
    }
   },
   "outputs": [
    {
     "name": "stdout",
     "output_type": "stream",
     "text": [
      "Hello, World!\n",
      "Hello, Nighthawk Coding Society!\n"
     ]
    }
   ],
   "source": [
    "// Define Class\n",
    "public class HelloDynamic { // name the first letter of class as capitalized, note camel case\n",
    "    // instance variable have access modifier (private is most common), data type, and name\n",
    "    private String hello;\n",
    "    // constructor signature 1, public and zero arguments, constructors do not have return type\n",
    "    public HelloDynamic() {  // 0 argument constructor\n",
    "        this.setHello(\"Hello, World!\");  // using setter with static string\n",
    "    }\n",
    "    // constructor signature, public and one argument\n",
    "    public HelloDynamic(String hello) { // 1 argument constructor\n",
    "        this.setHello(hello);   // using setter with local variable passed into constructor\n",
    "    }\n",
    "    // setter/mutator, setter have void return type and a parameter\n",
    "    public void setHello(String hello) { // setter\n",
    "        this.hello = hello;     // instance variable on the left, local variable on the right\n",
    "    }\n",
    "    // getter/accessor, getter used to return private instance variable (encapsulated), return type is String\n",
    "    public String getHello() {  // getter\n",
    "        return this.hello;\n",
    "    }\n",
    "    // public static void main(String[] args) is signature for main/drivers/tester method\n",
    "    // a driver/tester method is singular or called a class method, it is never part of an object\n",
    "    public static void main(String[] args) {  \n",
    "        HelloDynamic hd1 = new HelloDynamic(); // no argument constructor\n",
    "        HelloDynamic hd2 = new HelloDynamic(\"Hello, Nighthawk Coding Society!\"); // one argument constructor\n",
    "        System.out.println(hd1.getHello()); // accessing getter\n",
    "        System.out.println(hd2.getHello()); \n",
    "    }\n",
    "}\n",
    "// IJava activation\n",
    "HelloDynamic.main(null);"
   ]
  },
  {
   "cell_type": "markdown",
   "id": "c694ffb4-bfcb-4da6-984e-1f4c593eed4c",
   "metadata": {},
   "source": [
    "## Hacks\n",
    "Build your own Jupyter Notebook meeting these College Board and CTE competencies.  It is critical to understand Static versus Instance Now, this is College Board requirement!!!\n",
    "- Explain Anatomy of a Class in comments of program (Diagram key parts of the class).\n",
    "- Comment in code where there is a definition of a Class and an instance of a Class (ie object)\n",
    "- Comment in code where there are constructors and highlight the signature difference in the signature\n",
    "- Call an object method with parameter (ie setters).\n",
    "\n",
    "\n",
    "Additional requirements (Pick something)\n",
    "1. Go through code progression of understanding Class usage and generating an Instance of a Class (Object). \n",
    "    a. Build a purposeful dynamic Class, using an Object, generate multiple instances: \n",
    "        - Person: Name and Age\n",
    "        - Dessert: Type and Cost\n",
    "        - Location: City, State, Zip\n",
    "    b. Create a static void main tester method to generate objects of the class.\n",
    "    c. In tester method, show how setters/mutators can be used to make the data in the Object dynamically change\n",
    "3. Go through progression of understanding a Static Class.  Build a purposeful static Class, no Objects.\n",
    "    - Calculate common operations on a Date field, age since date, older of two dates, number of seconds since date\n",
    "    - Calculate stats functions on an array of values: mean, median, mode."
   ]
  },
  {
   "cell_type": "markdown",
   "id": "3908fc37-360b-4cb1-a0ec-be180c722200",
   "metadata": {},
   "source": [
    "## Hack #1"
   ]
  },
  {
   "cell_type": "code",
   "execution_count": 4,
   "id": "b8df4943-6c78-42ec-94d7-8ad9f9ed9ac1",
   "metadata": {
    "vscode": {
     "languageId": "java"
    }
   },
   "outputs": [
    {
     "name": "stdout",
     "output_type": "stream",
     "text": [
      "Initial values:\n",
      "Person: Vivian N, 17\n",
      "Dessert: Ice Cream, $5.99\n",
      "Location: San Diego, CA 92127\n",
      "\n",
      "Updated values:\n",
      "Person: Isabelle G, 16\n",
      "Dessert: Tiramisu, $7.25\n",
      "Location: San Diego 2.0, CA 92127\n"
     ]
    }
   ],
   "source": [
    "// definition of a class. 4 separate classes in this case\n",
    "public class Person {\n",
    "    \n",
    "    //instance variables\n",
    "    private String name;\n",
    "    private int age;\n",
    "\n",
    "    //constructor with two parameters. it is a Parameterized constructor\n",
    "    public Person(String name, int age) {\n",
    "        this.name = name;\n",
    "        this.age = age;\n",
    "    }\n",
    "\n",
    "    //setters. all are non static meaning they are instances of the overall class Person\n",
    "    public void setName(String name) {\n",
    "        this.name = name;\n",
    "    }\n",
    "\n",
    "    public void setAge(int age) {\n",
    "        this.age = age;\n",
    "    }\n",
    "\n",
    "    //getters\n",
    "    public String getName() {\n",
    "        return name;\n",
    "    }\n",
    "\n",
    "    public int getAge() {\n",
    "        return age;\n",
    "    }\n",
    "}\n",
    "\n",
    "class Dessert {\n",
    "    //instance variables\n",
    "    private String type;\n",
    "    private double cost;\n",
    "\n",
    "    public Dessert(String type, double cost) {\n",
    "        this.type = type;\n",
    "        this.cost = cost;\n",
    "    }\n",
    "\n",
    "    //setters\n",
    "    public void setType(String type) {\n",
    "        this.type = type;\n",
    "    }\n",
    "\n",
    "    public void setCost(double cost) { //double represents large decimal numbers\n",
    "        this.cost = cost;\n",
    "    }\n",
    "\n",
    "    //getters\n",
    "    public String getType() {\n",
    "        return type;\n",
    "    }\n",
    "\n",
    "    public double getCost() {\n",
    "        return cost;\n",
    "    }\n",
    "}\n",
    "\n",
    "class Location {\n",
    "    //instance variables\n",
    "    private String city;\n",
    "    private String state;\n",
    "    private String zip;\n",
    "\n",
    "    public Location(String city, String state, String zip) {\n",
    "        this.city = city;\n",
    "        this.state = state;\n",
    "        this.zip = zip;\n",
    "    }\n",
    "\n",
    "    //setters\n",
    "    public void setCity(String city) {\n",
    "        this.city = city;\n",
    "    }\n",
    "\n",
    "    public void setState(String state) {\n",
    "        this.state = state;\n",
    "    }\n",
    "\n",
    "    public void setZip(String zip) {\n",
    "        this.zip = zip;\n",
    "    }\n",
    "\n",
    "    //getters\n",
    "    public String getCity() {\n",
    "        return city;\n",
    "    }\n",
    "\n",
    "    public String getState() {\n",
    "        return state;\n",
    "    }\n",
    "\n",
    "    public String getZip() {\n",
    "        return zip;\n",
    "    }\n",
    "}\n",
    "\n",
    "public class Main {\n",
    "    public static void main(String[] args) {\n",
    "        //instance of a class object\n",
    "        //my personal instances of the classes. non-static or dynamic instances need to create an object from the class using 'new'\n",
    "        Person person = new Person(\"Vivian N\", 17);\n",
    "        Dessert dessert = new Dessert(\"Ice Cream\", 5.99);\n",
    "        Location location = new Location(\"San Diego\", \"CA\", \"92127\");\n",
    "\n",
    "        //display initial values which I just set\n",
    "        System.out.println(\"Initial values:\");\n",
    "        System.out.println(\"Person: \" + person.getName() + \", \" + person.getAge());\n",
    "        System.out.println(\"Dessert: \" + dessert.getType() + \", $\" + dessert.getCost());\n",
    "        System.out.println(\"Location: \" + location.getCity() + \", \" + location.getState() + \" \" + location.getZip());\n",
    "\n",
    "        //dynamically changing values using setters. Calling an object method with parameter \n",
    "        person.setName(\"Isabelle G\");\n",
    "        person.setAge(16);\n",
    "        dessert.setType(\"Tiramisu\");\n",
    "        dessert.setCost(7.25);\n",
    "        location.setCity(\"San Diego 2.0\");\n",
    "\n",
    "        //display updated values\n",
    "        System.out.println(\"\\nUpdated values:\");\n",
    "        System.out.println(\"Person: \" + person.getName() + \", \" + person.getAge());\n",
    "        System.out.println(\"Dessert: \" + dessert.getType() + \", $\" + dessert.getCost());\n",
    "        System.out.println(\"Location: \" + location.getCity() + \", \" + location.getState() + \" \" + location.getZip());\n",
    "    }\n",
    "}\n",
    "\n",
    "Main.main(null);"
   ]
  },
  {
   "cell_type": "markdown",
   "id": "b4994bf2-a9f3-49c3-a5fc-449eab3aee18",
   "metadata": {},
   "source": [
    "## Hack #2"
   ]
  },
  {
   "cell_type": "code",
   "execution_count": 5,
   "id": "b14eb2af-16f6-4ff0-9c42-1e6873964d1c",
   "metadata": {
    "vscode": {
     "languageId": "java"
    }
   },
   "outputs": [
    {
     "name": "stdout",
     "output_type": "stream",
     "text": [
      "Time passed in seconds: 6176256\n",
      "Time passed in days: 71\n",
      "The older date is: 2006-05-13T00:00\n"
     ]
    }
   ],
   "source": [
    "// imports\n",
    "import java.time.Duration; // gets time-based amount of time\n",
    "import java.time.LocalDateTime; // date-time object that represents a date in the yyyy-MM-dd-HH-mm-ss.zzz format\n",
    "import java.time.temporal.ChronoUnit; // units for time to replace integers\n",
    "\n",
    "// define class\n",
    "public class TimeCalculator {\n",
    "    // calculate time passed since a certain date\n",
    "    public static long calculateTimePassed(LocalDateTime fromDate) { // long is a 64-bit integer that we first parse before converting into time units\n",
    "        LocalDateTime now = LocalDateTime.now(); // get date and time of right now\n",
    "        Duration duration = Duration.between(fromDate, now); // convert time passed into time units\n",
    "        return duration.getSeconds();\n",
    "    }\n",
    "\n",
    "    // find the older of two dates\n",
    "    public static LocalDateTime findOlderDate(LocalDateTime date1, LocalDateTime date2) {\n",
    "        return date1.isBefore(date2) ? date1 : date2;\n",
    "    }\n",
    "\n",
    "    public static void main(String[] args) {\n",
    "        LocalDateTime fromDate = LocalDateTime.of(2023, 6, 18, 0, 0, 0);\n",
    "        LocalDateTime date1 = LocalDateTime.of(2006, 9, 26, 2, 0, 0);\n",
    "        LocalDateTime date2 = LocalDateTime.of(2006, 5, 13, 0, 0, 0);\n",
    "\n",
    "        long secondsPassed = calculateTimePassed(fromDate);\n",
    "        long daysPassed = secondsPassed / (60 * 60 * 24);\n",
    "\n",
    "        LocalDateTime olderDate = findOlderDate(date1, date2);\n",
    "\n",
    "        System.out.println(\"Time passed in seconds: \" + secondsPassed);\n",
    "        System.out.println(\"Time passed in days: \" + daysPassed);\n",
    "        System.out.println(\"The older date is: \" + olderDate);\n",
    "    }\n",
    "}\n",
    "\n",
    "TimeCalculator.main(null);"
   ]
  },
  {
   "cell_type": "code",
   "execution_count": 6,
   "id": "ff2e34ea-4cef-489f-83a6-45ed64144358",
   "metadata": {
    "vscode": {
     "languageId": "java"
    }
   },
   "outputs": [
    {
     "name": "stdout",
     "output_type": "stream",
     "text": [
      "Mean: 4.3428571428571425\n",
      "Median: 4.2\n",
      "Mode(s): [4.2]\n"
     ]
    }
   ],
   "source": [
    "// imports\n",
    "import java.util.*;\n",
    "\n",
    "// define class\n",
    "public class StatisticsCalculator {\n",
    "    //calculate mean\n",
    "    public static double calculateMean(double[] values) {\n",
    "        double sum = 0;\n",
    "        for (double value : values) {\n",
    "            sum += value;\n",
    "        }\n",
    "        return sum/values.length;\n",
    "    }\n",
    "    //calculate median\n",
    "    public static double calculateMedian(double[] values) {\n",
    "        Arrays.sort(values);\n",
    "        if (values.length % 2 == 0) {\n",
    "            int middleIndex1 = values.length / 2 - 1;\n",
    "            int middleIndex2 = values.length / 2;\n",
    "            return (values[middleIndex1] + values[middleIndex2]) / 2;\n",
    "        } else {\n",
    "            int middleIndex = values.length / 2;\n",
    "            return values[middleIndex];\n",
    "        }\n",
    "    }\n",
    "    //calculate mode\n",
    "    public static double [] calculateMode(double[] values) {\n",
    "        Map<Double, Integer> frequencyMap = new HashMap<>();\n",
    "        for (double value : values) {\n",
    "            frequencyMap.put(value, frequencyMap.getOrDefault(value, 0 ) + 1);\n",
    "        }\n",
    "\n",
    "        List<Double> modes = new ArrayList<>();\n",
    "        int maxFrequency = 0;\n",
    "        for (Map.Entry<Double, Integer> entry : frequencyMap.entrySet()) {\n",
    "            int frequency = entry.getValue();\n",
    "            if (frequency > maxFrequency) {\n",
    "                maxFrequency = frequency;\n",
    "                modes.clear();\n",
    "                modes.add(entry.getKey());\n",
    "            } else if (frequency == maxFrequency) {\n",
    "                modes.add(entry.getKey());\n",
    "            }\n",
    "        }\n",
    "\n",
    "        double[] modeArray = new double[modes.size()];\n",
    "        for (int i = 0; i < modes.size(); i++) {\n",
    "            modeArray[i] = modes.get(i);\n",
    "        }\n",
    "        return modeArray;\n",
    "    }\n",
    "\n",
    "    public static void main(String[] args) {\n",
    "        double[] values = { 3.0, 4.2, 6.9, 7.8, 2.9, 1.4, 4.2 };\n",
    "\n",
    "        double mean = calculateMean(values);\n",
    "        double median = calculateMedian(values);\n",
    "        double[] modes = calculateMode(values);\n",
    "\n",
    "        System.out.println(\"Mean: \" + mean);\n",
    "        System.out.println(\"Median: \" + median);\n",
    "        System.out.println(\"Mode(s): \" + Arrays.toString(modes));\n",
    "    }\n",
    "}\n",
    "\n",
    "StatisticsCalculator.main(null);"
   ]
  }
 ],
 "metadata": {
  "kernelspec": {
   "display_name": "Java",
   "language": "java",
   "name": "java"
  },
  "language_info": {
   "codemirror_mode": "java",
   "file_extension": ".jshell",
   "mimetype": "text/x-java-source",
   "name": "Java",
   "pygments_lexer": "java",
   "version": "20.0.2+9-78"
  }
 },
 "nbformat": 4,
 "nbformat_minor": 5
}
