{
 "cells": [
  {
   "cell_type": "markdown",
   "metadata": {},
   "source": [
    "---\n",
    "toc: true\n",
    "layout: post\n",
    "title: Algorhtyhmic Stuff\n",
    "description: Showing understnaidng of sorting algorithms and LinkedList sorting\n",
    "type: tangibles\n",
    "categories: [Java, Tri 3]\n",
    "tags: [Markdown, Blog]\n",
    "courses: { csa: {week: 28} }\n",
    "---"
   ]
  },
  {
   "cell_type": "markdown",
   "metadata": {},
   "source": [
    "## All Sorts\n",
    "\n",
    "### Merge Sort"
   ]
  },
  {
   "cell_type": "code",
   "execution_count": 1,
   "metadata": {
    "vscode": {
     "languageId": "java"
    }
   },
   "outputs": [],
   "source": [
    "public class MergeSort {\n",
    "    \n",
    "    public static void mergeSort(int[] arr, int left, int right) {\n",
    "        if (left < right) {\n",
    "            int mid = (left + right) / 2;\n",
    "            \n",
    "            mergeSort(arr, left, mid);\n",
    "            mergeSort(arr, mid + 1, right);\n",
    "            \n",
    "            merge(arr, left, mid, right);\n",
    "        }\n",
    "    }\n",
    "\n",
    "    public static void merge(int[] arr, int left, int mid, int right) {\n",
    "        int n1 = mid - left + 1;\n",
    "        int n2 = right - mid;\n",
    "\n",
    "        int[] L = new int[n1];\n",
    "        int[] R = new int[n2];\n",
    "\n",
    "        for (int i = 0; i < n1; i++) {\n",
    "            L[i] = arr[left + i];\n",
    "        }\n",
    "        for (int j = 0; j < n2; j++) {\n",
    "            R[j] = arr[mid + 1 + j];\n",
    "        }\n",
    "\n",
    "        int i = 0, j = 0, k = left;\n",
    "        while (i < n1 && j < n2) {\n",
    "            if (L[i] <= R[j]) {\n",
    "                arr[k] = L[i];\n",
    "                i++;\n",
    "            } else {\n",
    "                arr[k] = R[j];\n",
    "                j++;\n",
    "            }\n",
    "            k++;\n",
    "        }\n",
    "\n",
    "        while (i < n1) {\n",
    "            arr[k] = L[i];\n",
    "            i++;\n",
    "            k++;\n",
    "        }\n",
    "\n",
    "        while (j < n2) {\n",
    "            arr[k] = R[j];\n",
    "            j++;\n",
    "            k++;\n",
    "        }\n",
    "    }\n",
    "}"
   ]
  },
  {
   "cell_type": "markdown",
   "metadata": {},
   "source": [
    "### Selection Sort"
   ]
  },
  {
   "cell_type": "code",
   "execution_count": 2,
   "metadata": {
    "vscode": {
     "languageId": "java"
    }
   },
   "outputs": [],
   "source": [
    "public class SelectionSort {\n",
    "    \n",
    "    public static void selectionSort(int[] arr) {\n",
    "        int n = arr.length;\n",
    "        \n",
    "        for (int i = 0; i < n - 1; i++) {\n",
    "            int minIndex = i;\n",
    "            \n",
    "            for (int j = i + 1; j < n; j++) {\n",
    "                if (arr[j] < arr[minIndex]) {\n",
    "                    minIndex = j;\n",
    "                }\n",
    "            }\n",
    "            \n",
    "            int temp = arr[minIndex];\n",
    "            arr[minIndex] = arr[i];\n",
    "            arr[i] = temp;\n",
    "        }\n",
    "    }\n",
    "}"
   ]
  },
  {
   "cell_type": "markdown",
   "metadata": {},
   "source": [
    "### Insertion Sort"
   ]
  },
  {
   "cell_type": "code",
   "execution_count": 3,
   "metadata": {
    "vscode": {
     "languageId": "java"
    }
   },
   "outputs": [],
   "source": [
    "public class InsertionSort {\n",
    "    \n",
    "    public static void insertionSort(int[] arr) {\n",
    "        int n = arr.length;\n",
    "        \n",
    "        for (int i = 1; i < n; i++) {\n",
    "            int key = arr[i];\n",
    "            int j = i - 1;\n",
    "            \n",
    "            while (j >= 0 && arr[j] > key) {\n",
    "                arr[j + 1] = arr[j];\n",
    "                j = j - 1;\n",
    "            }\n",
    "            \n",
    "            arr[j + 1] = key;\n",
    "        }\n",
    "    }\n",
    "}"
   ]
  },
  {
   "cell_type": "markdown",
   "metadata": {},
   "source": [
    "### Quick Sort"
   ]
  },
  {
   "cell_type": "code",
   "execution_count": 4,
   "metadata": {
    "vscode": {
     "languageId": "java"
    }
   },
   "outputs": [],
   "source": [
    "public class QuickSort {\n",
    "    \n",
    "    public static void quickSort(int[] arr, int low, int high) {\n",
    "        if (low < high) {\n",
    "            int pivotIndex = partition(arr, low, high);\n",
    "            \n",
    "            quickSort(arr, low, pivotIndex - 1);\n",
    "            quickSort(arr, pivotIndex + 1, high);\n",
    "        }\n",
    "    }\n",
    "\n",
    "    public static int partition(int[] arr, int low, int high) {\n",
    "        int pivot = arr[high];\n",
    "        int i = (low - 1);\n",
    "\n",
    "        for (int j = low; j < high; j++) {\n",
    "            if (arr[j] < pivot) {\n",
    "                i++;\n",
    "                int temp = arr[i];\n",
    "                arr[i] = arr[j];\n",
    "                arr[j] = temp;\n",
    "            }\n",
    "        }\n",
    "\n",
    "        int temp = arr[i + 1];\n",
    "        arr[i + 1] = arr[high];\n",
    "        arr[high] = temp;\n",
    "\n",
    "        return i + 1;\n",
    "    }\n",
    "}\n"
   ]
  },
  {
   "cell_type": "markdown",
   "metadata": {},
   "source": [
    "### Bubble Sort"
   ]
  },
  {
   "cell_type": "code",
   "execution_count": 5,
   "metadata": {
    "vscode": {
     "languageId": "java"
    }
   },
   "outputs": [
    {
     "name": "stdout",
     "output_type": "stream",
     "text": [
      "Original array:\n",
      "1000007 2 410 90 523 \n",
      "\n",
      "Selection Sort:\n",
      "2 90 410 523 1000007 \n",
      "\n",
      "Insertion Sort:\n",
      "2 90 410 523 1000007 \n",
      "\n",
      "Merge Sort:\n",
      "2 90 410 523 1000007 \n",
      "\n",
      "Quick Sort:\n",
      "2 90 410 523 1000007 \n",
      "\n",
      "Bubble Sort:\n",
      "2 90 410 523 1000007 \n"
     ]
    }
   ],
   "source": [
    "public class BubbleSort {\n",
    "    \n",
    "    public static void bubbleSort(int[] arr) {\n",
    "        int n = arr.length;\n",
    "        boolean swapped;\n",
    "\n",
    "        for (int i = 0; i < n - 1; i++) {\n",
    "            swapped = false;\n",
    "            \n",
    "            for (int j = 0; j < n - i - 1; j++) {\n",
    "                if (arr[j] > arr[j + 1]) {\n",
    "                    int temp = arr[j];\n",
    "                    arr[j] = arr[j + 1];\n",
    "                    arr[j + 1] = temp;\n",
    "                    swapped = true;\n",
    "                }\n",
    "            }\n",
    "\n",
    "            if (!swapped) {\n",
    "                break;\n",
    "            }\n",
    "        }\n",
    "    }\n",
    "}\n",
    "\n",
    "public class SortingTest {\n",
    "\n",
    "    public static void main(String[] args) {\n",
    "        int[] arr = {1000007, 2, 410, 90, 523};\n",
    "        \n",
    "        System.out.println(\"Original array:\");\n",
    "        printArray(arr);\n",
    "\n",
    "        // Selection Sort\n",
    "        int[] arrSelectionSort = arr.clone();\n",
    "        System.out.println(\"\\nSelection Sort:\");\n",
    "        SelectionSort.selectionSort(arrSelectionSort);\n",
    "        printArray(arrSelectionSort);\n",
    "\n",
    "        // Insertion Sort\n",
    "        int[] arrInsertionSort = arr.clone();\n",
    "        System.out.println(\"\\nInsertion Sort:\");\n",
    "        InsertionSort.insertionSort(arrInsertionSort);\n",
    "        printArray(arrInsertionSort);\n",
    "\n",
    "        // Merge Sort\n",
    "        int[] arrMergeSort = arr.clone();\n",
    "        System.out.println(\"\\nMerge Sort:\");\n",
    "        MergeSort.mergeSort(arrMergeSort, 0, arrMergeSort.length - 1);\n",
    "        printArray(arrMergeSort);\n",
    "\n",
    "        // Quick Sort\n",
    "        int[] arrQuickSort = arr.clone();\n",
    "        System.out.println(\"\\nQuick Sort:\");\n",
    "        QuickSort.quickSort(arrQuickSort, 0, arrQuickSort.length - 1);\n",
    "        printArray(arrQuickSort);\n",
    "\n",
    "        // Bubble Sort\n",
    "        int[] arrBubbleSort = arr.clone();\n",
    "        System.out.println(\"\\nBubble Sort:\");\n",
    "        BubbleSort.bubbleSort(arrBubbleSort);\n",
    "        printArray(arrBubbleSort);\n",
    "    }\n",
    "\n",
    "    public static void printArray(int[] arr) {\n",
    "        for (int num : arr) {\n",
    "            System.out.print(num + \" \");\n",
    "        }\n",
    "        System.out.println();\n",
    "    }\n",
    "}\n",
    "SortingTest.main(null);\n"
   ]
  },
  {
   "cell_type": "markdown",
   "metadata": {},
   "source": [
    "### LinkedList + Selection Sort Implementation"
   ]
  },
  {
   "cell_type": "code",
   "execution_count": 6,
   "metadata": {
    "vscode": {
     "languageId": "java"
    }
   },
   "outputs": [
    {
     "name": "stdout",
     "output_type": "stream",
     "text": [
      "Original list: [7, 4, 9, 2]\n",
      "Sorted list: [2, 4, 7, 9]\n",
      "JSON representation: {\"2\", \"4\", \"7\", \"9\"}\n"
     ]
    }
   ],
   "source": [
    "public class LinkedList<T extends Comparable<T>> {\n",
    "    // Node class represents individual list elements\n",
    "    private static class Node<T> {\n",
    "        T data; // the element's actual data\n",
    "        Node<T> next; // referencing (linking to *winky face*) to the next node in the list\n",
    "\n",
    "        // constructor to create a node with given data\n",
    "        Node(T data) {\n",
    "            this.data = data;\n",
    "            this.next = null; // no next node exists initially\n",
    "        }\n",
    "    }\n",
    "\n",
    "    private Node<T> head; // references the first node in the list\n",
    "    private int size; // represents the size/length of the list\n",
    "\n",
    "    // constructor to initialize the LinkedList\n",
    "    public LinkedList() {\n",
    "        head = null; // it's empty at first, so there's NOTHING\n",
    "        size = 0; // the size starts out as 0, as there is NOTHING\n",
    "    }\n",
    "\n",
    "    // like .add() for ArrayList, this adds an element to the end of the list\n",
    "    public void add(T element) {\n",
    "        if (head == null) {\n",
    "            head = new Node<>(element); // if the list is empty, this creates the first node\n",
    "            // when I gave my concept, chatGPT said to add this condition here, credit <-\n",
    "        } else {\n",
    "            Node<T> current = head;\n",
    "            while (current.next != null) {\n",
    "                current = current.next; // using a while loop to approach the last node\n",
    "            }\n",
    "            current.next = new Node<>(element); // adding the new node at the end\n",
    "        }\n",
    "        size++; // increasing size of the list\n",
    "    }\n",
    "\n",
    "    // HERE'S MY CUSTOM SELECTION SORT\n",
    "    public void selectionSort() {\n",
    "        if (head == null || head.next == null) {\n",
    "            return; // if the list is empty or has only one element, it's already sorted\n",
    "            // again, this is an inclusion courtesy of ChatGPT and its incredible forethought\n",
    "        }\n",
    "        Node<T> current = head;\n",
    "        while (current != null) {\n",
    "            Node<T> min = current;\n",
    "            Node<T> temp = current.next;\n",
    "            while (temp != null) {\n",
    "                if (temp.data.compareTo(min.data) < 0) {\n",
    "                    min = temp; // finding the minimum element\n",
    "                }\n",
    "                temp = temp.next;\n",
    "            }\n",
    "            T tmpData = current.data; // swapping the current unsorted place with the minimum\n",
    "            current.data = min.data;\n",
    "            min.data = tmpData;\n",
    "            current = current.next; // moving to the next element\n",
    "        }\n",
    "    }\n",
    "\n",
    "    // this method overrides toString\n",
    "    // it's used for printing the list\n",
    "    // this was my reference: https://stackoverflow.com/questions/42676579/tostring-method-for-a-linkedlist\n",
    "    // i shouldn't have needed a reference, but I wanted to make sure there wasn't anything special to do\n",
    "    @Override\n",
    "    public String toString() {\n",
    "        String string = \"[\"; // starting the list format\n",
    "        Node<T> current = head; // start with head\n",
    "        while (current != null) {\n",
    "            string += current.data; // appending the current data to the string\n",
    "            if (current.next != null) {\n",
    "                string += \", \"; // good punctuation = professionalism\n",
    "            }\n",
    "            current = current.next; // moving on\n",
    "        }\n",
    "        string += \"]\"; // capping off the list format\n",
    "        return string;\n",
    "    }\n",
    "\n",
    "    // this is to return a JSON representation of the list\n",
    "    // i basically did the same thign as I did for the toString() one\n",
    "    public String toJSON() {\n",
    "        String json = \"{\"; // starting format\n",
    "        Node<T> current = head; // start with head\n",
    "        while (current != null) {\n",
    "            json += \"\\\"\" + current.data + \"\\\"\"; // adding current data in quotations for JSON\n",
    "            if (current.next != null) {\n",
    "                json += \", \"; // good punctuation again, this time very important\n",
    "            }\n",
    "            current = current.next; // moving on\n",
    "        }\n",
    "        json += \"}\"; // capping off\n",
    "        return json;\n",
    "    }\n",
    "\n",
    "    // may be implemented? still researching\n",
    "    public void changeSortKey() {\n",
    "        // yet to come...\n",
    "    }\n",
    "\n",
    "    // main method for testing\n",
    "    public static void main(String[] args) {\n",
    "        LinkedList<Integer> list = new LinkedList<>();\n",
    "        list.add(7);\n",
    "        list.add(4);\n",
    "        list.add(9);\n",
    "        list.add(2);\n",
    "        System.out.println(\"Original list: \" + list);\n",
    "        list.selectionSort();\n",
    "        System.out.println(\"Sorted list: \" + list);\n",
    "        System.out.println(\"JSON representation: \" + list.toJSON());\n",
    "    }\n",
    "}\n",
    "\n",
    "LinkedList.main(null);"
   ]
  },
  {
   "cell_type": "markdown",
   "metadata": {},
   "source": [
    "## Custom Comparable\n",
    "\n",
    "Penguins hehe"
   ]
  },
  {
   "cell_type": "code",
   "execution_count": 7,
   "metadata": {
    "vscode": {
     "languageId": "java"
    }
   },
   "outputs": [
    {
     "name": "stdout",
     "output_type": "stream",
     "text": [
      "Sorted list: [Emperor Penguin (Aptenodytes forsteri) - Average Speed: 5, Magellanic Penguin (Spheniscus magellanicus) - Average Speed: 15, Chinstrap Penguin (Pygoscelis antarcticus) - Average Speed: 20, Gentoo Penguin (Pygoscelis papua) - Average Speed: 22]\n",
      "JSON representation: {\"Emperor Penguin (Aptenodytes forsteri) - Average Speed: 5\", \"Magellanic Penguin (Spheniscus magellanicus) - Average Speed: 15\", \"Chinstrap Penguin (Pygoscelis antarcticus) - Average Speed: 20\", \"Gentoo Penguin (Pygoscelis papua) - Average Speed: 22\"}\n"
     ]
    }
   ],
   "source": [
    "interface Collectable<T> extends Comparable<T> {\n",
    "    // implementing compareTo method to define natural ordering\n",
    "    @Override\n",
    "    int compareTo(T other);\n",
    "\n",
    "    String toString(); // needed for LL printing\n",
    "}\n",
    "// defining the Penguin class implementing Collectable interface\n",
    "class PenguinList implements Collectable<PenguinList> {\n",
    "    private String species;\n",
    "    private String sciName;\n",
    "    private int avgSpeed;\n",
    "\n",
    "    // basic constructor\n",
    "    public PenguinList(String species, String sciName, int avgSpeed) {\n",
    "        this.species = species;\n",
    "        this.sciName = sciName;\n",
    "        this.avgSpeed = avgSpeed;\n",
    "    }\n",
    "\n",
    "    // getters methods\n",
    "    public String getSpecies() { return species; }\n",
    "    public String getSciName() { return sciName; }\n",
    "    public int getAvgSpeed() { return avgSpeed; }\n",
    "\n",
    "    // implementing the interface compareTo method\n",
    "    // i defined natural ordering based on average speed\n",
    "    @Override\n",
    "    public int compareTo(PenguinList other) {\n",
    "        return Integer.compare(this.avgSpeed, other.avgSpeed);\n",
    "    }\n",
    "\n",
    "    // overriding toString method for better representation of the penguins\n",
    "    @Override\n",
    "    public String toString() {\n",
    "        return species + \" (\" + sciName + \") - Average Speed: \" + avgSpeed;\n",
    "    }\n",
    "\n",
    "    public static void main(String[] args) {\n",
    "        // Create an array of penguins\n",
    "        PenguinList[] penguinArray = new PenguinList[] {\n",
    "            new PenguinList(\"Emperor Penguin\", \"Aptenodytes forsteri\", 5),\n",
    "            new PenguinList(\"Gentoo Penguin\", \"Pygoscelis papua\", 22),\n",
    "            new PenguinList(\"Chinstrap Penguin\", \"Pygoscelis antarcticus\", 20),\n",
    "            new PenguinList(\"Magellanic Penguin\", \"Spheniscus magellanicus\", 15)\n",
    "        };\n",
    "\n",
    "        // Create a LinkedList of Star Wars characters\n",
    "        LinkedList<PenguinList> penguinList = new LinkedList<>();\n",
    "\n",
    "        // Add characters to the LinkedList\n",
    "        for (PenguinList penguin : penguinArray) {\n",
    "            penguinList.add(penguin);\n",
    "        }\n",
    "\n",
    "        // Sort and display the LinkedList\n",
    "        penguinList.selectionSort();\n",
    "        System.out.println(\"Sorted list: \" + penguinList);\n",
    "        System.out.println(\"JSON representation: \" + penguinList.toJSON());\n",
    "    }\n",
    "}\n",
    "\n",
    "PenguinList.main(null);"
   ]
  },
  {
   "cell_type": "markdown",
   "metadata": {},
   "source": [
    "### Using Custom Comparable With Custom LinkedList"
   ]
  },
  {
   "cell_type": "code",
   "execution_count": 9,
   "metadata": {
    "vscode": {
     "languageId": "java"
    }
   },
   "outputs": [
    {
     "name": "stdout",
     "output_type": "stream",
     "text": [
      "Original list: [Emperor Penguin (Aptenodytes forsteri) - Average Speed: 5, Gentoo Penguin (Pygoscelis papua) - Average Speed: 22, Chinstrap Penguin (Pygoscelis antarcticus) - Average Speed: 20, Magellanic Penguin (Spheniscus magellanicus) - Average Speed: 15]\n",
      "Sorted list: [Emperor Penguin (Aptenodytes forsteri) - Average Speed: 5, Magellanic Penguin (Spheniscus magellanicus) - Average Speed: 15, Chinstrap Penguin (Pygoscelis antarcticus) - Average Speed: 20, Gentoo Penguin (Pygoscelis papua) - Average Speed: 22]\n",
      "JSON representation: {\"Emperor Penguin (Aptenodytes forsteri) - Average Speed: 5\", \"Magellanic Penguin (Spheniscus magellanicus) - Average Speed: 15\", \"Chinstrap Penguin (Pygoscelis antarcticus) - Average Speed: 20\", \"Gentoo Penguin (Pygoscelis papua) - Average Speed: 22\"}\n"
     ]
    }
   ],
   "source": [
    "public class Main {\n",
    "    public static void main(String[] args) {\n",
    "        LinkedList<PenguinList> penguinList = new LinkedList<>();\n",
    "        penguinList.add(new PenguinList(\"Emperor Penguin\", \"Aptenodytes forsteri\", 5));\n",
    "        penguinList.add(new PenguinList(\"Gentoo Penguin\", \"Pygoscelis papua\", 22));\n",
    "        penguinList.add(new PenguinList(\"Chinstrap Penguin\", \"Pygoscelis antarcticus\", 20));\n",
    "        penguinList.add(new PenguinList(\"Magellanic Penguin\", \"Spheniscus magellanicus\", 15));\n",
    "\n",
    "        System.out.println(\"Original list: \" + penguinList);\n",
    "        penguinList.selectionSort();\n",
    "        System.out.println(\"Sorted list: \" + penguinList);\n",
    "        System.out.println(\"JSON representation: \" + penguinList.toJSON());\n",
    "    }\n",
    "}\n",
    "Main.main(null);"
   ]
  },
  {
   "cell_type": "markdown",
   "metadata": {},
   "source": [
    "### Modified Penguin Collectable"
   ]
  },
  {
   "cell_type": "code",
   "execution_count": 16,
   "metadata": {
    "vscode": {
     "languageId": "java"
    }
   },
   "outputs": [
    {
     "name": "stdout",
     "output_type": "stream",
     "text": [
      "Sorted by SPECIES: [Chinstrap Penguin (Pygoscelis antarcticus) - Average Speed: 20, Emperor Penguin (Aptenodytes forsteri) - Average Speed: 5, Gentoo Penguin (Pygoscelis papua) - Average Speed: 22, Magellanic Penguin (Spheniscus magellanicus) - Average Speed: 15]\n",
      "Sorted by SCI_NAME: [Emperor Penguin (Aptenodytes forsteri) - Average Speed: 5, Chinstrap Penguin (Pygoscelis antarcticus) - Average Speed: 20, Gentoo Penguin (Pygoscelis papua) - Average Speed: 22, Magellanic Penguin (Spheniscus magellanicus) - Average Speed: 15]\n",
      "Sorted by AVG_SPEED: [Emperor Penguin (Aptenodytes forsteri) - Average Speed: 5, Magellanic Penguin (Spheniscus magellanicus) - Average Speed: 15, Chinstrap Penguin (Pygoscelis antarcticus) - Average Speed: 20, Gentoo Penguin (Pygoscelis papua) - Average Speed: 22]\n"
     ]
    }
   ],
   "source": [
    "// defining the PenguinList class implementing Collectable interface\n",
    "class PenguinList implements Collectable<PenguinList> {\n",
    "    private String species;\n",
    "    private String sciName;\n",
    "    private int avgSpeed;\n",
    "\n",
    "    // my attempt at SortKey implementation\n",
    "    enum SortKey {\n",
    "        SPECIES,\n",
    "        SCI_NAME,\n",
    "        AVG_SPEED\n",
    "    }\n",
    "\n",
    "    private static SortKey currentSortKey = SortKey.AVG_SPEED; // default sort key is average speed\n",
    "\n",
    "    // basic constructor\n",
    "    public PenguinList(String species, String sciName, int avgSpeed) {\n",
    "        this.species = species;\n",
    "        this.sciName = sciName;\n",
    "        this.avgSpeed = avgSpeed;\n",
    "    }\n",
    "\n",
    "    // getters methods\n",
    "    public String getSpecies() { return species; }\n",
    "    public String getSciName() { return sciName; }\n",
    "    public int getavgSpeed() { return avgSpeed; }\n",
    "\n",
    "    // special sort key setter method for static context\n",
    "    public static void setCurrentSortKey(SortKey sortKey) {\n",
    "        currentSortKey = sortKey;\n",
    "    }\n",
    "\n",
    "    // implementing the interface compareTo method\n",
    "    // trying to make it founded on the PenguinList class's defined current sort key\n",
    "    @Override\n",
    "    public int compareTo(PenguinList other) {\n",
    "        switch (currentSortKey) {\n",
    "            case SPECIES: // sorts alphabetically by species\n",
    "                return this.species.compareTo(other.species);\n",
    "            case SCI_NAME: // sorts alphabetically by scientific name\n",
    "                return this.sciName.compareTo(other.sciName);\n",
    "            case AVG_SPEED: // sorts by increasing average speed\n",
    "                return Integer.compare(this.avgSpeed, other.avgSpeed);\n",
    "            default:\n",
    "                throw new IllegalArgumentException(\"Invalid sort key\");\n",
    "        }\n",
    "    }\n",
    "\n",
    "    // overriding toString method for better representation of the Star Wars character\n",
    "    @Override\n",
    "    public String toString() {\n",
    "        return species + \" (\" + sciName + \") - Average Speed: \" + avgSpeed;\n",
    "    }\n",
    "\n",
    "    public static void main(String[] args) {\n",
    "        // Create an array of penguins\n",
    "        PenguinList[] penguinArray = new PenguinList[] {\n",
    "            new PenguinList(\"Emperor Penguin\", \"Aptenodytes forsteri\", 5),\n",
    "            new PenguinList(\"Gentoo Penguin\", \"Pygoscelis papua\", 22),\n",
    "            new PenguinList(\"Chinstrap Penguin\", \"Pygoscelis antarcticus\", 20),\n",
    "            new PenguinList(\"Magellanic Penguin\", \"Spheniscus magellanicus\", 15)\n",
    "        };\n",
    "\n",
    "        // Create a LinkedList of penguins\n",
    "        LinkedList<PenguinList> penguinList = new LinkedList<>();\n",
    "\n",
    "        // Add penguins to the LinkedList\n",
    "        for (PenguinList penguin : penguinArray) {\n",
    "            penguinList.add(penguin);\n",
    "        }\n",
    "\n",
    "        // Sort and display the LinkedList with different sort keys\n",
    "        for (PenguinList.SortKey sortKey : PenguinList.SortKey.values()) {\n",
    "            // setting the current sort key\n",
    "            PenguinList.setCurrentSortKey(sortKey);\n",
    "            \n",
    "            // selection sort called for the LinkedList class\n",
    "            penguinList.selectionSort();\n",
    "            \n",
    "            // displaying the sorted LinkedList\n",
    "            System.out.println(\"Sorted by \" + sortKey + \": \" + penguinList);\n",
    "        }\n",
    "    }\n",
    "}\n",
    "\n",
    "PenguinList.main(null);\n"
   ]
  },
  {
   "cell_type": "code",
   "execution_count": null,
   "metadata": {
    "vscode": {
     "languageId": "java"
    }
   },
   "outputs": [],
   "source": []
  }
 ],
 "metadata": {
  "kernelspec": {
   "display_name": "Java",
   "language": "java",
   "name": "java"
  },
  "language_info": {
   "codemirror_mode": "java",
   "file_extension": ".jshell",
   "mimetype": "text/x-java-source",
   "name": "Java",
   "pygments_lexer": "java",
   "version": "20.0.2+9-78"
  },
  "orig_nbformat": 4
 },
 "nbformat": 4,
 "nbformat_minor": 2
}
