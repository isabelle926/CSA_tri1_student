{
 "cells": [
  {
   "attachments": {},
   "cell_type": "markdown",
   "metadata": {},
   "source": [
    "---\n",
    "title: Traversing 2D Arrays   \n",
    "description: Unit 8 of CB\n",
    "toc: True\n",
    "layout: notebook\n",
    "type: hacks\n",
    "---"
   ]
  },
  {
   "attachments": {},
   "cell_type": "markdown",
   "metadata": {},
   "source": [
    "<h2>  8.1: Declaring + Initializing 2D Arrays; Determining their  </h2>\n",
    "\n",
    "> Review: \n",
    "Arrays are a collection (list) of elements (primitive or object reference type data)  \n",
    "\n",
    "So, a 2-Dimensional array is an array where the elements within that array are other arrays \n",
    "\n",
    "2D arrays can be better at storing certain types of information \n",
    "\n",
    "* Especially if the data represents a space, with rows and columns\n",
    "\n",
    "\n",
    "Seating chart: \n",
    "\n",
    "| . | Column 1 | Column 2 | Column 3 | \n",
    "| - | - | - | - |\n",
    "| Row 1 | Abby | Ben | Clara | Principalida | \n",
    "| Row 2 | Ethan | Frank |  | Flanklin | \n",
    "| Row 3 | Isabelle | John | Kim | Leo | \n",
    "\n",
    "Note that this is a non-rectangular 2D array \n",
    "\n",
    "* Or if the data needs to be classified under categories \n",
    "\n",
    "| . | Month 1 | Month 2 | Month 3 | \n",
    "| - | - | - | - |\n",
    "|  Winter | December | January | February |\n",
    "|  Spring | March | April | May |\n",
    "|  Summer | June | July | August |\n",
    "|  Fall | Summer | October | November |\n",
    "\n",
    "This is a rectangular 2D array. Non-rectangular 2D arrays are not a part of the CSA course\n",
    "\n",
    "\n",
    "<h4> Declaring a 2D array </h4>\n",
    "\n",
    "2D Arrays can be declared like this: \n",
    "\n",
    "``` dataType[][] nameOfArray; ```"
   ]
  },
  {
   "attachments": {},
   "cell_type": "markdown",
   "metadata": {},
   "source": [
    "<h3> Initializing a 2D array </h3>\n",
    "\n",
    "``` new dataType[r][c]; ```\n",
    "\n",
    "r: number of rows (number of arrays)\n",
    "<br>\n",
    "c: number of columns (length of each array)"
   ]
  },
  {
   "cell_type": "code",
   "execution_count": null,
   "metadata": {},
   "outputs": [],
   "source": [
    "public class Seasons {\n",
    "\n",
    "    private String[][] Seasons = new String[2][3];\n",
    "\n",
    "    // Or, if you already know what the elements should be:\n",
    "\n",
    "    private String[][] Seasons2 = {\n",
    "        {\"December\", \"January\", \"February\"},\n",
    "        {\"March\", \"April\", \"May\"},\n",
    "        {\"June\", \"July\", \"August\"},\n",
    "        {\"September\", \"October\", \"November\"}\n",
    "    };\n",
    "\n",
    "}\n"
   ]
  },
  {
   "attachments": {},
   "cell_type": "markdown",
   "metadata": {},
   "source": [
    "\n",
    "### Size of 2D Arrays\n",
    "\n",
    "The size of the 2D array is classified by number of rows by number of columns \n",
    "\n",
    "Number of rows can be found like this: \n",
    "\n",
    "``` r = trimesterCourses.length ```\n",
    "\n",
    "This would give the number of arrays within the 2D array, since each array is an element\n",
    "\n",
    "For number of columns: \n",
    "\n",
    "``` c = trimesterCourses[0].length ```\n",
    "\n",
    "This finds the number of elements of the first array within the 2D array.\n",
    "\n",
    "\n",
    "<h3> Accessing the Elements of a 2D Array </h3>\n",
    "\n",
    "The elements of a 2D array can be accessed using index\n",
    "\n",
    "``` Seasons[0][2] ```\n",
    "\n",
    "\n",
    "**Output: February**\n",
    "\n",
    "the value in the first bracket is the index of the rows, or which array we are accessing. In this case, the 0th index means we are accessing the first array \n",
    "\n",
    "The value in the second bracket is the index within the array. So we are looking for the 2nd value within the first array.\n",
    "\n",
    "\n",
    "To update the element of a 2D array, all you need to do is reference its location and change the value. \n",
    "\n",
    "\n",
    "\n"
   ]
  },
  {
   "cell_type": "code",
   "execution_count": null,
   "metadata": {},
   "outputs": [],
   "source": [
    "public class Seasons {\n",
    "\n",
    "    private String[][] seasons = new String[2][3];\n",
    "\n",
    "    private static String[][] seasons2 = {\n",
    "        {\"December\", \"January\", \"February\"},\n",
    "        {\"March\", \"April\", \"May\"},\n",
    "        {\"June\", \"July\", \"August\"},\n",
    "        {\"September\", \"October\", \"November\"}\n",
    "    };\n",
    "\n",
    "    public static void main(String[] args) {\n",
    "        System.out.println(seasons2[0][2]);\n",
    "        seasons2[0][2] = \"Changed Value\";  \n",
    "        System.out.println(seasons2[0][2]);\n",
    "    }\n",
    "}\n",
    "\n",
    "Seasons.main(null);\n",
    "\n"
   ]
  },
  {
   "cell_type": "markdown",
   "metadata": {},
   "source": [
    "## Notes on Common Mistakes\n",
    "\n",
    "Here are some notes on common mistakes made in the context of the 2D arrays question. People around the country will *definitely* make all of these mistakes many times over, so let's hope that none of those people are people at our school.\n",
    "\n",
    "### Array Errors\n",
    "\n",
    "We just had a lesson on common Arrays errors, so rather than rephrase their work, give [these mistakes](https://men-in-brown.github.io/BrownPages/ArraysLesson#common-mistakes) another look.\n",
    "\n",
    "There are some Array errors that are especially relevant to 2D arrays problems, however. For example...\n",
    "\n",
    "- Off-By-One Errors\n",
    "\n",
    "When working with a 2D array, you are working with an array full of arrays. In this structure, there is a set number of rows and columns when the structure is initialized. The length of each row and the number of rows are *often different*, so both must be identified properly before iterating using index-based loops.\n",
    "\n",
    "Out of bounds errors will *always* lose you at least one point on the scoring guidelines, according to our research.\n",
    "\n",
    "- For-Each loop modification\n",
    "\n",
    "If values are intended to be modified during an iterative process, *do not* use a for-each loop. The elements accessed using this strategy are copies; accessing the array indexes directly to make modifications is the only way for them to be retained. See the example below:"
   ]
  },
  {
   "cell_type": "code",
   "execution_count": 1,
   "metadata": {},
   "outputs": [
    {
     "name": "stdout",
     "output_type": "stream",
     "text": [
      "Prior to modification: [[1, 4, 3], [3, 8, 9]]\n",
      "After to modification: [[1, 4, 3], [3, 8, 9]]\n"
     ]
    }
   ],
   "source": [
    "import java.util.Arrays;\n",
    "\n",
    "int[][] modifyArray = {\n",
    "    {1, 4, 3},\n",
    "    {3, 8, 9}\n",
    "};\n",
    "\n",
    "System.out.println(\"Prior to modification: \" + Arrays.deepToString(modifyArray));\n",
    "\n",
    "for (int[] row : modifyArray) {\n",
    "    for (int col : row) {\n",
    "        if (col == 3) {\n",
    "            col = 0;\n",
    "        }\n",
    "    }\n",
    "}\n",
    "\n",
    "System.out.println(\"After to modification: \" + Arrays.deepToString(modifyArray));"
   ]
  },
  {
   "cell_type": "markdown",
   "metadata": {},
   "source": [
    "Instead, when modifying, you can use a traditional for loop (which also comes with the added benefit of having direct access to the relevant indexes):"
   ]
  },
  {
   "cell_type": "code",
   "execution_count": 2,
   "metadata": {},
   "outputs": [
    {
     "name": "stdout",
     "output_type": "stream",
     "text": [
      "Prior to modification: [[1, 4, 3], [3, 8, 9]]\n",
      "After to modification: [[1, 4, 0], [0, 8, 9]]\n"
     ]
    }
   ],
   "source": [
    "import java.util.Arrays;\n",
    "\n",
    "int[][] actualModifyArray = {\n",
    "    {1, 4, 3},\n",
    "    {3, 8, 9}\n",
    "};\n",
    "\n",
    "System.out.println(\"Prior to modification: \" + Arrays.deepToString(actualModifyArray));\n",
    "\n",
    "for (int r = 0; r < actualModifyArray.length; r++) {\n",
    "    for (int c = 0; c < actualModifyArray[r].length; c++) {\n",
    "        if (actualModifyArray[r][c] == 3) {\n",
    "            actualModifyArray[r][c] = 0;\n",
    "        }\n",
    "    }\n",
    "}\n",
    "\n",
    "System.out.println(\"After to modification: \" + Arrays.deepToString(actualModifyArray));"
   ]
  },
  {
   "cell_type": "markdown",
   "metadata": {},
   "source": [
    "### FRQ Scoring Guidelines Mistakes\n",
    "\n",
    "To succeed on the AP test, it's important to be able to identify which elements of a correct answer earn points.\n",
    "\n",
    "- Most often, if you create a method in a previous part used to interact with a 2D array, *it is intended that you use that method again in future methods*.\n",
    "\n",
    "Means of traversing and interacting with 2D arrays are relatively specific in the context of one College Board problem (i.e., iterate through to determine a condition about a row, find a value in a row, search columns by condition, etc.), so make sure to analyze the context to determine if a certain method may be used again to abstract what would otherwise be a more complex task in a future method. With practice, this connection should be obvious.\n",
    "\n",
    "If there is no possible relevance between two methods, this may not necessarily be the case.\n",
    "\n",
    "Make sure that you use the proper parameters when calling your own method! Scoring guidelines are sometimes lenient about this, but don’t tempt fate. Just format your call properly.\n",
    "\n",
    "- If a “helper” method is provided to you in a question, *make sure to note it and use it*.\n",
    "\n",
    "If one is provided, it is most certainly present to make the process of writing the code less complex. Scoring guidelines will always include utilizing past student-created methods and “helper” methods.\n",
    "\n",
    "You can also use the helper method’s functionality to aid your thinking about a question. If you are confused by its content and aren’t sure how to tackle the problem instinctively, you can be sure that a provided “helper” method will be a part of the solution.\n",
    "\n",
    "Once again, make sure that you’re using the proper parameters!\n",
    "\n",
    "- Know how to use column-major order. (Many go into the test having only used row-major order.)\n",
    "\n",
    "It's very possible that a question will prompt you to access a 2D array by its columns. (We found two in research for this lesson.) If you know you haven't practiced column-major order, give the code below a look. It might be a good idea to create your own code cell with a unique 2D array to practice with."
   ]
  },
  {
   "cell_type": "code",
   "execution_count": 3,
   "metadata": {},
   "outputs": [
    {
     "name": "stdout",
     "output_type": "stream",
     "text": [
      "Column 1:\t3\t9\t\n",
      "Column 2:\t5\t9\t\n",
      "Column 3:\t1\t7\t\n"
     ]
    }
   ],
   "source": [
    "int[][] array = {\n",
    "    {3, 5, 1},\n",
    "    {9, 9, 7}\n",
    "};\n",
    "\n",
    "// you should always be able to use array[0].length for the number of columns\n",
    "// since each row is the same length\n",
    "int colNum = 1;\n",
    "for (int col = 0; col < array[0].length; col++) {\n",
    "    System.out.print(\"Column \" + colNum + \":\\t\");\n",
    "    for (int row = 0; row < array.length; row++) {\n",
    "        System.out.print(array[row][col] + \"\\t\");\n",
    "    }\n",
    "    System.out.println();\n",
    "    colNum++;\n",
    "}"
   ]
  },
  {
   "attachments": {},
   "cell_type": "markdown",
   "metadata": {},
   "source": [
    "### Popcorn Hack:\n"
   ]
  },
  {
   "cell_type": "code",
   "execution_count": 34,
   "metadata": {},
   "outputs": [
    {
     "name": "stdout",
     "output_type": "stream",
     "text": [
      "Before retake:\n",
      "Trimester 1: [85, 90, 78, 92, 99]\n",
      "Trimester 2: [92, 88, 91, 97, 80]\n",
      "Trimester 3: [79, 85, 83, 95, 67]\n",
      "\n",
      "Grade on Retake Test: 108\n",
      "Old Grade on Test: 67\n",
      "Grade Before Test: 81.8\n",
      "Grade After Test: 90.0\n",
      "\n",
      "After retake:\n",
      "Trimester 1: [85, 90, 78, 92, 99]\n",
      "Trimester 2: [92, 88, 91, 97, 80]\n",
      "Trimester 3: [79, 85, 83, 95, 108]\n"
     ]
    }
   ],
   "source": [
    "public class TrimesterGrades {\n",
    "\n",
    "    private int[][] trimesterGrades = {\n",
    "        {85, 90, 78, 92, 99}, // tri 1\n",
    "        {92, 88, 91, 97, 80}, // tri 2\n",
    "        {79, 85, 83, 95, 67}  // tri 3\n",
    "    };\n",
    "\n",
    "    public void print(){\n",
    "        for (int i = 0; i < trimesterGrades.length; i++) {\n",
    "            System.out.println(\"Trimester \" + (i + 1) + \": \" + Arrays.toString(trimesterGrades[i]));\n",
    "        }\n",
    "    }\n",
    "\n",
    "    public void retakeExam(int tri, double newGrade) {\n",
    "        int overallGrade = 0;\n",
    "        int triIdx = tri - 1;\n",
    "        int oldTest = trimesterGrades[triIdx][trimesterGrades[triIdx].length-1];\n",
    "        for (int i = 0; i < trimesterGrades[triIdx].length; i++) {\n",
    "            overallGrade += trimesterGrades[triIdx][i];\n",
    "        }\n",
    "        double maxGrade = trimesterGrades[triIdx].length * 100;\n",
    "        double grade = overallGrade / maxGrade * 100;\n",
    "        double gradeBeforeTest = 0;\n",
    "        \n",
    "        // finding the grade needed on the last test to raise the grade to a 90\n",
    "        for (int i = 0; i < trimesterGrades[triIdx].length-1; i++) {\n",
    "                gradeBeforeTest += trimesterGrades[triIdx][i];        \n",
    "            }\n",
    "\n",
    "        double gradeNeeded = (newGrade/100) * maxGrade - gradeBeforeTest;\n",
    "        \n",
    "        int replacedGrade = (int) gradeNeeded;\n",
    "        trimesterGrades[triIdx][trimesterGrades[triIdx].length-1] = replacedGrade;\n",
    "        \n",
    "        System.out.println(\"Grade on Retake Test: \" + trimesterGrades[triIdx][trimesterGrades[triIdx].length-1]);\n",
    "        System.out.println(\"Old Grade on Test: \" + oldTest);\n",
    "        System.out.println(\"Grade Before Test: \" + grade);\n",
    "        System.out.println(\"Grade After Test: \" + newGrade);\n",
    "    }\n",
    "\n",
    "    public static void main(String args[]) {\n",
    "        TrimesterGrades grades = new TrimesterGrades();\n",
    "        System.out.println(\"Before retake:\");\n",
    "        grades.print();\n",
    "        System.out.println(\"\");\n",
    "        \n",
    "        grades.retakeExam(3, 90);\n",
    "        System.out.println(\"\\nAfter retake:\");\n",
    "        grades.print();\n",
    "    }\n",
    "\n",
    "}\n",
    "\n",
    "TrimesterGrades.main(null);"
   ]
  },
  {
   "attachments": {},
   "cell_type": "markdown",
   "metadata": {},
   "source": [
    "The 2D array keeps track of a students grade, grouped by each trimester. \n",
    "The student, currently in Trimester 3, retook a test in their 3rd period, which raised that grade to 90. \n",
    "\n",
    "Show how they would write code that changes the grade for the 3rd period class"
   ]
  },
  {
   "cell_type": "markdown",
   "metadata": {},
   "source": [
    "Hacks:\n",
    "Finish FRQ from Friday, 2015 Q1 Part B & C\n",
    "\n",
    "(Question indicated to perform 2019 Question 3 however those were not the questions as assigned on Friday the instructions were revised to remove the contradiction)\n",
    "\n",
    "<img width=\"667\" alt=\"image\" src=\"https://github.com/AniCricKet/musical-guacamole/assets/91163802/84cb12be-b868-441a-96d0-51b12ff0d697\">\n",
    "\n",
    "(b) Write a static method rowSums that calculates the sums of each of the rows in a given twodimensional array and returns these sums in a one-dimensional array. The method has one parameter, a twodimensional array arr2D of int values. The array is in row-major order: arr2D[r][c] is the entry at row r and column c. The method returns a one-dimensional array with one entry for each row of arr2D such that each entry is the sum of the corresponding row in arr2D. As a reminder, each row of a two-dimensional array is a one-dimensional array. For example, if mat1 is the array represented by the following table, the call rowSums(mat1) returns the array {16, 32, 28, 20}. Assume that arraySum works as specified, regardless of what you wrote in part (a). You must use arraySum appropriately to receive full credit. Complete method rowSums below."
   ]
  },
  {
   "cell_type": "code",
   "execution_count": 1,
   "metadata": {},
   "outputs": [
    {
     "name": "stdout",
     "output_type": "stream",
     "text": [
      "15\n"
     ]
    }
   ],
   "source": [
    "// Part A as requested on Friday \n",
    "// Returns the sum of the entries in the one-dimensional array arr.\n",
    "public static int arraySum(int[] arr){\n",
    "    int sum = 0;\n",
    "    for (int i = 0; i < arr.length; i++){\n",
    "        sum += arr[i];\n",
    "    }\n",
    "    return sum;\n",
    "} \n",
    "\n",
    "int[] arr = {1, 2, 3, 4, 5};\n",
    "\n",
    "System.out.println(arraySum(arr)); // 15"
   ]
  },
  {
   "cell_type": "code",
   "execution_count": 2,
   "metadata": {},
   "outputs": [
    {
     "name": "stdout",
     "output_type": "stream",
     "text": [
      "[6, 15, 24]\n"
     ]
    }
   ],
   "source": [
    "/** Returns a one-dimensional array in which the entry at index k is the sum of * the entries of row k of the two-dimensional array arr2D. */ \n",
    "public static int[] rowSums(int[][] arr2D){\n",
    "    int[] sums = new int[arr2D.length];\n",
    "    for (int i = 0; i < arr2D.length; i++){\n",
    "        sums[i] = arraySum(arr2D[i]);\n",
    "    }\n",
    "\n",
    "    return sums;\n",
    "}\n",
    "\n",
    "int[][] arr2D = {\n",
    "    {1, 2, 3}, \n",
    "    {4, 5, 6}, \n",
    "    {7, 8, 9}\n",
    "};\n",
    "\n",
    "System.out.println(Arrays.toString(rowSums(arr2D))); // {6, 15, 24}"
   ]
  },
  {
   "cell_type": "markdown",
   "metadata": {},
   "source": [
    "![image](https://github.com/AniCricKet/musical-guacamole/assets/91163802/40654587-a7af-4918-ab01-5000ba097a9b)\n",
    "\n",
    "(c) A two-dimensional array is diverse if no two of its rows have entries that sum to the same value. In the following examples, the array mat1 is diverse because each row sum is different, but the array mat2 is not diverse because the first and last rows have the same sum.Assume that arraySum and rowSums work as specified, regardless of what you wrote in parts (a) and (b). You must use rowSums appropriately to receive full credit. Complete method isDiverse below."
   ]
  },
  {
   "cell_type": "code",
   "execution_count": 3,
   "metadata": {},
   "outputs": [
    {
     "name": "stdout",
     "output_type": "stream",
     "text": [
      "Call 1 Mat 1\n",
      "true\n",
      "\n",
      "Call 2 Mat 2\n",
      "false\n"
     ]
    }
   ],
   "source": [
    "public static boolean isDiverse(int[][] mat1){\n",
    "    boolean diverse = false;\n",
    "    int[] rowSums = rowSums(mat1);\n",
    "\n",
    "    for(int i = 0; i < rowSums.length; i++){\n",
    "        for(int j = i+1; j < rowSums.length; j++){\n",
    "            if (rowSums[i] != rowSums[j]){\n",
    "                continue;\n",
    "            } else{\n",
    "                return diverse;\n",
    "            }\n",
    "        }\n",
    "    }\n",
    "    diverse = true;\n",
    "    return diverse;\n",
    "}\n",
    "\n",
    "int[][] mat1 = new int[][]{\n",
    "    {1,3,2,7,3},\n",
    "    {10,10,4,6,2},\n",
    "    {5,3,5,9,6},\n",
    "    {7,6,4,2,1}\n",
    "};\n",
    "\n",
    "System.out.println(\"Call 1 Mat 1\");\n",
    "System.out.println(isDiverse(mat1));\n",
    "\n",
    "int[][] mat2 = {\n",
    "    {1,1,5,3,4},\n",
    "    {12,7,6,1,9},\n",
    "    {8,11,10,2,5},\n",
    "    {3,2,3,0,6}\n",
    "};\n",
    "\n",
    "\n",
    "System.out.println(\"\\nCall 2 Mat 2\");\n",
    "System.out.println(isDiverse(mat2));"
   ]
  }
 ],
 "metadata": {
  "kernelspec": {
   "display_name": "Java",
   "language": "java",
   "name": "java"
  },
  "language_info": {
   "codemirror_mode": "java",
   "file_extension": ".jshell",
   "mimetype": "text/x-java-source",
   "name": "java",
   "pygments_lexer": "java",
   "version": "3.11.6"
  },
  "orig_nbformat": 4
 },
 "nbformat": 4,
 "nbformat_minor": 2
}
