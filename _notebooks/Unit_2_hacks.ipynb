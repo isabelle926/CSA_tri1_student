{
 "cells": [
  {
   "cell_type": "markdown",
   "id": "05d78959-24b5-47a5-8a29-b66e7d9bf88c",
   "metadata": {},
   "source": [
    "## Hack 1: Create a void method that takes an integer input and adds it to an ArrayList. Then, add a non-void method that is able to call a certain index from the ArrayList."
   ]
  },
  {
   "cell_type": "code",
   "execution_count": 1,
   "id": "b320763f-7c56-4dbc-b509-e718410bb6ff",
   "metadata": {},
   "outputs": [
    {
     "name": "stdout",
     "output_type": "stream",
     "text": [
      "Enter an integer to add to the list:\n"
     ]
    },
    {
     "name": "stdin",
     "output_type": "stream",
     "text": [
      " 8\n"
     ]
    },
    {
     "name": "stdout",
     "output_type": "stream",
     "text": [
      "Enter an index to retrieve an integer from the list:\n"
     ]
    },
    {
     "name": "stdin",
     "output_type": "stream",
     "text": [
      " 0\n"
     ]
    },
    {
     "name": "stdout",
     "output_type": "stream",
     "text": [
      "the selected index was 0\n",
      "Value at the requested index: 8\n"
     ]
    }
   ],
   "source": [
    "import java.util.ArrayList;\n",
    "import java.util.Scanner;\n",
    "\n",
    "public class MyArrayList {\n",
    "    private ArrayList<Integer> intList = new ArrayList<>();  \n",
    "    private Scanner scanner = new Scanner(System.in); \n",
    "\n",
    "    public void addToIntArray() {\n",
    "        int myInt = scanner.nextInt(); \n",
    "        intList.add(myInt);\n",
    "    }\n",
    "\n",
    "    public int callInteger() {\n",
    "        System.out.println(\"Enter an index to retrieve an integer from the list:\");\n",
    "        int index = scanner.nextInt();\n",
    "        System.out.println(\"the selected index was \" + index);\n",
    "\n",
    "        if (index >= 0 && index < intList.size()) {\n",
    "            return intList.get(index);\n",
    "        }\n",
    "\n",
    "        return -1;\n",
    "    }\n",
    "\n",
    "    public static void main(String[] args){\n",
    "        MyArrayList myList = new MyArrayList();\n",
    "        System.out.println(\"Enter an integer to add to the list:\");\n",
    "        myList.addToIntArray();\n",
    "\n",
    "        int retrievedValue = myList.callInteger();\n",
    "\n",
    "        if (retrievedValue != -1) {\n",
    "            System.out.println(\"Value at the requested index: \" + retrievedValue);\n",
    "        } else {\n",
    "            System.out.println(\"Index is out of bounds.\");\n",
    "        }\n",
    "    }\n",
    "}\n",
    "\n",
    "MyArrayList.main(null);\n",
    "\n"
   ]
  },
  {
   "cell_type": "markdown",
   "id": "d2d1af22-a862-485c-98d0-f3c304db0516",
   "metadata": {},
   "source": [
    "## Hack 2: Create a simple guessing game with random numbers in math, except the random number is taken to a random exponent (also includes roots), and the person has to find out what the root and exponent is (with hints!). Use at least one static and one non-static method in your class."
   ]
  },
  {
   "cell_type": "code",
   "execution_count": 2,
   "id": "6a2933c1-0de9-440f-8f35-3a5ec6428126",
   "metadata": {},
   "outputs": [
    {
     "name": "stdout",
     "output_type": "stream",
     "text": [
      "Welcome to the exponent/root guessing game\n",
      "You need to guess the exponent/root\n",
      "Enter your guess: "
     ]
    },
    {
     "name": "stdin",
     "output_type": "stream",
     "text": [
      " 256\n"
     ]
    },
    {
     "name": "stdout",
     "output_type": "stream",
     "text": [
      "Your guess is too high. Would you like a hint? (yes/no)\n"
     ]
    },
    {
     "name": "stdin",
     "output_type": "stream",
     "text": [
      " yes\n"
     ]
    },
    {
     "name": "stdout",
     "output_type": "stream",
     "text": [
      "5.0 to the power of this random exponent is 1953125.0\n",
      "Enter your guess: "
     ]
    },
    {
     "name": "stdin",
     "output_type": "stream",
     "text": [
      " 100\n"
     ]
    },
    {
     "name": "stdout",
     "output_type": "stream",
     "text": [
      "Your guess is too high. Would you like a hint? (yes/no)\n"
     ]
    },
    {
     "name": "stdin",
     "output_type": "stream",
     "text": [
      " yes\n"
     ]
    },
    {
     "name": "stdout",
     "output_type": "stream",
     "text": [
      "5.0 to the power of this random exponent is 1953125.0\n",
      "Enter your guess: "
     ]
    },
    {
     "name": "stdin",
     "output_type": "stream",
     "text": [
      " 64\n"
     ]
    },
    {
     "name": "stdout",
     "output_type": "stream",
     "text": [
      "Your guess is too high. Would you like a hint? (yes/no)\n"
     ]
    },
    {
     "name": "stdin",
     "output_type": "stream",
     "text": [
      " no\n"
     ]
    },
    {
     "name": "stdout",
     "output_type": "stream",
     "text": [
      "Enter your guess: "
     ]
    },
    {
     "name": "stdin",
     "output_type": "stream",
     "text": [
      " 49\n"
     ]
    },
    {
     "name": "stdout",
     "output_type": "stream",
     "text": [
      "Your guess is too high. Would you like a hint? (yes/no)\n"
     ]
    },
    {
     "name": "stdin",
     "output_type": "stream",
     "text": [
      " no\n"
     ]
    },
    {
     "name": "stdout",
     "output_type": "stream",
     "text": [
      "Enter your guess: "
     ]
    },
    {
     "name": "stdin",
     "output_type": "stream",
     "text": [
      " 36\n"
     ]
    },
    {
     "name": "stdout",
     "output_type": "stream",
     "text": [
      "Your guess is too high. Would you like a hint? (yes/no)\n"
     ]
    },
    {
     "name": "stdin",
     "output_type": "stream",
     "text": [
      " no\n"
     ]
    },
    {
     "name": "stdout",
     "output_type": "stream",
     "text": [
      "Enter your guess: "
     ]
    },
    {
     "name": "stdin",
     "output_type": "stream",
     "text": [
      " 25\n"
     ]
    },
    {
     "name": "stdout",
     "output_type": "stream",
     "text": [
      "Your guess is too high. Would you like a hint? (yes/no)\n"
     ]
    },
    {
     "name": "stdin",
     "output_type": "stream",
     "text": [
      " no\n"
     ]
    },
    {
     "name": "stdout",
     "output_type": "stream",
     "text": [
      "Enter your guess: "
     ]
    },
    {
     "name": "stdin",
     "output_type": "stream",
     "text": [
      " 8\n"
     ]
    },
    {
     "name": "stdout",
     "output_type": "stream",
     "text": [
      "Your guess is too low. Would you like a hint? (yes/no)\n"
     ]
    },
    {
     "name": "stdin",
     "output_type": "stream",
     "text": [
      " no\n"
     ]
    },
    {
     "name": "stdout",
     "output_type": "stream",
     "text": [
      "Enter your guess: "
     ]
    },
    {
     "name": "stdin",
     "output_type": "stream",
     "text": [
      " 12\n"
     ]
    },
    {
     "name": "stdout",
     "output_type": "stream",
     "text": [
      "Your guess is too high. Would you like a hint? (yes/no)\n"
     ]
    },
    {
     "name": "stdin",
     "output_type": "stream",
     "text": [
      " no\n"
     ]
    },
    {
     "name": "stdout",
     "output_type": "stream",
     "text": [
      "Enter your guess: "
     ]
    },
    {
     "name": "stdin",
     "output_type": "stream",
     "text": [
      " 10\n"
     ]
    },
    {
     "name": "stdout",
     "output_type": "stream",
     "text": [
      "Your guess is too high. Would you like a hint? (yes/no)\n"
     ]
    },
    {
     "name": "stdin",
     "output_type": "stream",
     "text": [
      " no\n"
     ]
    },
    {
     "name": "stdout",
     "output_type": "stream",
     "text": [
      "Enter your guess: "
     ]
    },
    {
     "name": "stdin",
     "output_type": "stream",
     "text": [
      " 9\n"
     ]
    },
    {
     "name": "stdout",
     "output_type": "stream",
     "text": [
      "Correct, good job!\n"
     ]
    }
   ],
   "source": [
    "import java.util.Random;\n",
    "import java.util.Scanner;\n",
    "\n",
    "public class GuessingGame {\n",
    "   private double randomNumber;\n",
    "   private double randomExponent;\n",
    "   private double result;\n",
    "\n",
    "   public double createRandomNumber(){\n",
    "        double min = 0;\n",
    "        double max = 10;\n",
    "\n",
    "        randomNumber = Math.floor(Math.random() *(max - min + 1) + min);\n",
    "        randomExponent = Math.floor(Math.random() *(max - min + 1) + min);\n",
    "        result = Math.pow(randomNumber, randomExponent); \n",
    "        \n",
    "        //print statements i was using to make sure this thing worked\n",
    "        //System.out.println(randomNumber);\n",
    "        //System.out.println(randomExponent);\n",
    "        //System.out.println(randomNumber + \" to the power of \" + randomExponent);\n",
    "        //System.out.println(result);\n",
    "      \n",
    "        return randomExponent;\n",
    "    }\n",
    "\n",
    "    public void guessingGame() {\n",
    "\n",
    "        System.out.println(\"Welcome to the exponent/root guessing game\");\n",
    "        System.out.println(\"You need to guess the exponent/root\");\n",
    "\n",
    "        Scanner guess = new Scanner(System.in);\n",
    "        boolean correct = false;\n",
    "\n",
    "\n",
    "        while(!correct) {\n",
    "            System.out.print(\"Enter your guess: \");\n",
    "            double myGuess = guess.nextDouble();\n",
    "\n",
    "            if (myGuess == randomExponent) {\n",
    "                System.out.println(\"Correct, good job!\");\n",
    "                correct = true;\n",
    "            }\n",
    "\n",
    "            else if (myGuess > randomExponent){\n",
    "                System.out.println(\"Your guess is too high. Would you like a hint? (yes/no)\");\n",
    "                Scanner hint = new Scanner(System.in);\n",
    "                String myHint = hint.next();\n",
    "                if (myHint.equalsIgnoreCase(\"yes\")){\n",
    "                    System.out.println(randomNumber + \" to the power of this random exponent is \" + result);\n",
    "                }\n",
    "            }\n",
    "            else {\n",
    "                System.out.println(\"Your guess is too low. Would you like a hint? (yes/no)\");\n",
    "                Scanner hint = new Scanner(System.in);\n",
    "                String myHint = hint.next();\n",
    "    \n",
    "                if (myHint.equalsIgnoreCase(\"yes\")){\n",
    "                    System.out.println(randomNumber + \" to the power of this random exponent is \" + result);\n",
    "                }\n",
    "            }\n",
    "        }\n",
    "        \n",
    "    }\n",
    "\n",
    "    public static void main(String[] args) {\n",
    "        GuessingGame game = new GuessingGame();\n",
    "        game.createRandomNumber();\n",
    "        game.guessingGame();\n",
    "       \n",
    "    }\n",
    "}\n",
    "\n",
    "GuessingGame.main(null);"
   ]
  },
  {
   "cell_type": "markdown",
   "id": "e8d53a84-bba8-421a-b525-0fc58939e7f2",
   "metadata": {},
   "source": [
    "## Hack 3: Create a class of your choosing that has multiple parameters of different types (int, boolean, String, double) and put 5 data values in that list. Show that you can access the information by giving some samples."
   ]
  },
  {
   "cell_type": "code",
   "execution_count": 5,
   "id": "52f99596-2598-4877-8c69-6a71bfd6bdb7",
   "metadata": {},
   "outputs": [
    {
     "name": "stdout",
     "output_type": "stream",
     "text": [
      "6\n",
      "22.0\n",
      "Fiordland Penguin\n"
     ]
    }
   ],
   "source": [
    "public class Penguin {\n",
    "\n",
    "    private int mass;\n",
    "    private double speed;\n",
    "    private String species;\n",
    "\n",
    "    public Penguin(int mass, double speed, String species) {\n",
    "        this.mass = mass;\n",
    "        this.speed = speed;\n",
    "        this.species = species;\n",
    "    }\n",
    "\n",
    "    public static void main(String[] args) {\n",
    "        Penguin penguin1 = new Penguin(6, 15.0, \"Magellanic Penguin\");\n",
    "        Penguin penguin2 = new Penguin(10, 9.3, \"Macaroni Penguin\");\n",
    "        Penguin penguin3 = new Penguin(13, 22.0, \"Gentoo Penguin\");\n",
    "        Penguin penguin4 = new Penguin(8, 15.0, \"Fiordland Penguin\");\n",
    "        Penguin penguin5 = new Penguin(12, 12.4, \"Yellow-eyed Penguin\");\n",
    "\n",
    "        System.out.println(penguin1.mass); \n",
    "        System.out.println(penguin3.speed); \n",
    "        System.out.println(penguin4.species); \n",
    "    }\n",
    "}\n",
    "\n",
    "Penguin.main(null);"
   ]
  },
  {
   "cell_type": "markdown",
   "id": "b70bfb89-4f02-4f6e-b912-8e5398e5b1c4",
   "metadata": {},
   "source": [
    "## Hack 4: Using your preliminary knowlege of loops, use a for loop to iterate through a person’s first and last name, seperated by a space, and create methods to call a person’s first name and a person’s last name by iterating through the string."
   ]
  },
  {
   "cell_type": "code",
   "execution_count": 6,
   "id": "f23f372e-62c3-4d81-8a79-c82b15edadaf",
   "metadata": {},
   "outputs": [
    {
     "name": "stdout",
     "output_type": "stream",
     "text": [
      "Enter your full name\n"
     ]
    },
    {
     "name": "stdin",
     "output_type": "stream",
     "text": [
      " Isabelle Gunawan\n"
     ]
    },
    {
     "name": "stdout",
     "output_type": "stream",
     "text": [
      "Your first name is: \n",
      "Isabelle\n",
      "Your last name is: \n",
      "Gunawan\n"
     ]
    }
   ],
   "source": [
    "import java.util.Scanner;\n",
    "\n",
    "public class Name {\n",
    "\n",
    "    public String getFullName() {\n",
    "        Scanner fullNameScanner = new Scanner(System.in);\n",
    "        String name = fullNameScanner.nextLine();\n",
    "        return name;\n",
    "    }\n",
    "\n",
    "    public void firstName(String name) {\n",
    "        System.out.println(\"Your first name is: \");\n",
    "        int i = 0;\n",
    "        while (i < name.length() && name.charAt(i) != ' ') {  \n",
    "            System.out.print(name.charAt(i));\n",
    "            i++;\n",
    "        }\n",
    "        System.out.println();\n",
    "    }\n",
    "\n",
    "    public void lastName(String name) {\n",
    "        System.out.println(\"Your last name is: \");\n",
    "\n",
    "        //stores the index of the ' ' in nameSeparator\n",
    "        int nameSeparator = name.lastIndexOf(' ');\n",
    "\n",
    "        // -1 means no space is found\n",
    "        if (nameSeparator != -1) {\n",
    "            // nameSeparator + 1 because I want it to print everything after the space\n",
    "            for (int i = nameSeparator + 1; i < name.length(); i++){\n",
    "                System.out.print(name.charAt(i));\n",
    "            }\n",
    "        }\n",
    "        System.out.println();\n",
    "        \n",
    "    }\n",
    "\n",
    "    public static void main(String[] args) {\n",
    "        Name newName = new Name();\n",
    "        System.out.println(\"Enter your full name\");\n",
    "        String fullName = newName.getFullName();\n",
    "        newName.firstName(fullName);\n",
    "        newName.lastName(fullName);\n",
    "    }\n",
    "}\n",
    "\n",
    "Name.main(null);"
   ]
  },
  {
   "cell_type": "code",
   "execution_count": null,
   "id": "977ca17b-1318-43b0-afb9-76ee0687ee8f",
   "metadata": {},
   "outputs": [],
   "source": []
  }
 ],
 "metadata": {
  "kernelspec": {
   "display_name": "Java",
   "language": "java",
   "name": "java"
  },
  "language_info": {
   "codemirror_mode": "java",
   "file_extension": ".jshell",
   "mimetype": "text/x-java-source",
   "name": "Java",
   "pygments_lexer": "java",
   "version": "20.0.2+9-78"
  }
 },
 "nbformat": 4,
 "nbformat_minor": 5
}
