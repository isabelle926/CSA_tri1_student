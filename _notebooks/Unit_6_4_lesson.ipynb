{
 "cells": [
  {
   "cell_type": "markdown",
   "metadata": {},
   "source": [
    "# Unit 6.4: Developing Algorithms Using Arrays"
   ]
  },
  {
   "cell_type": "markdown",
   "metadata": {},
   "source": [
    "## How to identify the maximum or minimum value in an array\n",
    "\n",
    "It is a common task to determine what the largest or smallest value stored is inside an array. In order to do this, we need a method that can take a parameter of an array of primitve values (`int` or `double`) and return the item that is at the appropriate extreme. \n",
    "\n",
    "Inside the method a local variable is needed to store the current max or min value that will be compared against all the values in the array. You can assign the current value to be either the opposite extreme or the first item you would be looking at. \n",
    "\n",
    "You can use either a standard `for` loop or an enhanced `for` loop to determine the max or min. Assign the temporary variable a starting value based on what extreme you are searching for. \n",
    "\n",
    "Inside the `for` loop, compare the current value against the local variable; if the current value is better, assign it to the temporary variable. When the loop is over, the local variable will contain the appropriate value and is still available and within scope and can be returned from the method. "
   ]
  },
  {
   "cell_type": "markdown",
   "metadata": {},
   "source": [
    "### Find max in an array of `double` values"
   ]
  },
  {
   "cell_type": "code",
   "execution_count": null,
   "metadata": {
    "vscode": {
     "languageId": "java"
    }
   },
   "outputs": [],
   "source": [
    "private double findMax(double [] values) {\n",
    "    double max = values[0];\n",
    "\n",
    "    for (int index = 1; index < values.length; index++) {\n",
    "        if (values[index] > max) {\n",
    "            max = values[index];\n",
    "        }\n",
    "    }\n",
    "    return max;\n",
    "}"
   ]
  },
  {
   "cell_type": "markdown",
   "metadata": {},
   "source": [
    "### Find min in an array of `int` values"
   ]
  },
  {
   "cell_type": "code",
   "execution_count": null,
   "metadata": {
    "vscode": {
     "languageId": "java"
    }
   },
   "outputs": [],
   "source": [
    "private int findMin(int [] values) {\n",
    "    int min = Integer.MAX_VALUE;\n",
    "\n",
    "    for (int currentValue: values) {\n",
    "        if (currentValue < min) {\n",
    "            min = currentValue;\n",
    "        }\n",
    "    }\n",
    "    return min;\n",
    "}"
   ]
  },
  {
   "cell_type": "markdown",
   "metadata": {},
   "source": [
    "## Let's Practice!\n",
    "__Popcorn hack #1__"
   ]
  },
  {
   "cell_type": "code",
   "execution_count": null,
   "metadata": {
    "vscode": {
     "languageId": "java"
    }
   },
   "outputs": [],
   "source": [
    "//What needs to be changed\n",
    "private int findMax(double [] values) {\n",
    "    double max = values[0];\n",
    "    int maxIndex = 0;\n",
    "\n",
    "    for (int index = 1; index < values.length; index++) {\n",
    "        max = values[index];\n",
    "    }\n",
    "    return max;\n",
    "}"
   ]
  },
  {
   "cell_type": "code",
   "execution_count": null,
   "metadata": {
    "vscode": {
     "languageId": "java"
    }
   },
   "outputs": [],
   "source": [
    "//Solution\n",
    "private int findMax(double [] values) {\n",
    "    double max = values[0];\n",
    "\n",
    "    for (int index = 1; index < values.length; index++) {\n",
    "        if (values[index] > max) {\n",
    "            max = values[index];\n",
    "            maxIndex = index;\n",
    "        }\n",
    "    }\n",
    "    return maxIndex;\n",
    "}"
   ]
  },
  {
   "cell_type": "markdown",
   "metadata": {},
   "source": [
    "## How to calculate the average value from objects in an array\n",
    "\n",
    "It is a common task to determine what is the average value returned from items stored inside an array. In order to do this, we need a method that can take a parameter of an array of Objects (DebugDuck) and calculate and return the average value that each instance of DebugDuck returns from the method. \n",
    "\n",
    "Inside the method; a local double variable is needed to store the accumulated values. Then we use a for loop to traverse the array and add the current total to the variable. After accumulating all the values we need to divide the total by the number of items stored in the array."
   ]
  },
  {
   "cell_type": "markdown",
   "metadata": {},
   "source": [
    "### Using a standard `for` looop"
   ]
  },
  {
   "cell_type": "code",
   "execution_count": null,
   "metadata": {
    "vscode": {
     "languageId": "java"
    }
   },
   "outputs": [],
   "source": [
    "private double calculateAverage(DebugDuck [] ducks) {\n",
    "    double average = 0.0;\n",
    "\n",
    "    for (int index = 0; index < ducks.length; index++) {\n",
    "        average += ducks[index].getQuestionCount();\n",
    "    }\n",
    "    average = average / ducks.length;\n",
    "\n",
    "    return average;\n",
    "}"
   ]
  },
  {
   "cell_type": "markdown",
   "metadata": {},
   "source": [
    "### Using an enhanced `for` loop"
   ]
  },
  {
   "cell_type": "code",
   "execution_count": null,
   "metadata": {
    "vscode": {
     "languageId": "java"
    }
   },
   "outputs": [],
   "source": [
    "private double calculateAverage(DebugDuck [] ducks) {\n",
    "    double average = 0.0;\n",
    "\n",
    "    for (DebugDuck currentDuck: ducks) {\n",
    "        average += currentDuck.getQuestionCount();\n",
    "    }\n",
    "    average = average / ducks.length;\n",
    "\n",
    "    return average;\n",
    "}"
   ]
  },
  {
   "cell_type": "markdown",
   "metadata": {},
   "source": [
    "__Does the order of accumulation matter?__\n",
    "\n",
    "No you can go forward or backward through a loop to accumulate values\n",
    "\n",
    "__Can you declare the variable inside the loop?__\n",
    "\n",
    "No it would reset the value each time you execute the loop"
   ]
  },
  {
   "cell_type": "markdown",
   "metadata": {},
   "source": [
    "## Shfiting Array contents to the right\n",
    "\n",
    "The contents of an array often need to be shifted as part of a solution to using the data inside.\n",
    "\n",
    "We need to know how much to shift the array by. This will need to be an `int` obviously. \n",
    "\n",
    "In order to move the contents we next need to make an empty array of the same size and then iterate over the original array and properly copy the values to the adjusted index in the new array.\n",
    "\n",
    "We then need to assign the new array back into the original variable. \n",
    "\n",
    "__What kind of for loop should we use? Why?__\n",
    "\n",
    "We must use a standard for loop, not an enhanced for loop since this algorithm is dependent on the index of each value in the array"
   ]
  },
  {
   "cell_type": "code",
   "execution_count": 3,
   "metadata": {
    "vscode": {
     "languageId": "java"
    }
   },
   "outputs": [
    {
     "name": "stdout",
     "output_type": "stream",
     "text": [
      "3 \n",
      "4 \n",
      "5 \n",
      "1 \n",
      "2 \n"
     ]
    }
   ],
   "source": [
    "int [] numbers = {1,2,3,4,5};\n",
    "int [] shifted = new int [numbers.length];\n",
    "int shift = 8;\n",
    "for (int index = 0; index < numbers.length; index++) {\n",
    "    shifted [Math.abs((index + shift) % numbers.length)] = numbers[index];\n",
    "}\n",
    "numbers = shifted;\n",
    "for (int num : numbers) {\n",
    "    System.out.println(num + \" \");\n",
    "}"
   ]
  },
  {
   "cell_type": "markdown",
   "metadata": {},
   "source": [
    "__Why are we using the % operator?__\n",
    "\n",
    "To correctly account for the shift as values wrap around the left and right sides of the array"
   ]
  },
  {
   "cell_type": "markdown",
   "metadata": {},
   "source": [
    "__Popcorn hack #2__ \n",
    "\n",
    "How would we code a left shift? Write a left shift using the variables below"
   ]
  },
  {
   "cell_type": "code",
   "execution_count": null,
   "metadata": {
    "vscode": {
     "languageId": "java"
    }
   },
   "outputs": [],
   "source": [
    "String [] words = {\"alpha\", \"beta\", \"gamma\", \"delta\"};\n",
    "int shiftWord = 2;"
   ]
  },
  {
   "cell_type": "markdown",
   "metadata": {},
   "source": [
    "__Why should the array index be wrapped in a call to Math.abs?__"
   ]
  }
 ],
 "metadata": {
  "kernelspec": {
   "display_name": "Java",
   "language": "java",
   "name": "java"
  },
  "language_info": {
   "codemirror_mode": "java",
   "file_extension": ".jshell",
   "mimetype": "text/x-java-source",
   "name": "Java",
   "pygments_lexer": "java",
   "version": "20.0.2+9-78"
  },
  "orig_nbformat": 4
 },
 "nbformat": 4,
 "nbformat_minor": 2
}
