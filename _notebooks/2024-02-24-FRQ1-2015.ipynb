{
 "cells": [
  {
   "cell_type": "markdown",
   "metadata": {},
   "source": [
    "---\n",
    "toc: true\n",
    "layout: post\n",
    "title: 2015 Practice FRQ 1\n",
    "type: tangibles\n",
    "categories: [AP Test Prep, Java, Tri 2]\n",
    "tags: [Markdown, Blog]\n",
    "courses: { csa: {week: 24} }\n",
    "---"
   ]
  },
  {
   "cell_type": "markdown",
   "metadata": {},
   "source": [
    "# Question"
   ]
  },
  {
   "cell_type": "markdown",
   "metadata": {},
   "source": [
    "Directions: SHOW ALL YOUR WORK. REMEMBER THAT PROGRAM SEGMENTS ARE TO BE WRITTEN IN JAVA.\n",
    "\n",
    "Notes:\n",
    "\n",
    "    Assume that the classes listed in the Java Quick Reference have been imported where appropriate.\n",
    "\n",
    "    Unless otherwise noted in the question, assume that parameters in method calls are not null and that methods are called only when their preconditions are satisfied.\n",
    "\n",
    "    In writing solutions for each question, you may use any of the accessible methods that are listed in classes defined in that question. Writing significant amounts of code that can be replaced by a call to one of these methods will not receive full credit.\n",
    "\n",
    "This question involves reasoning about one-dimensional and two-dimensional arrays of integers. You will write three static methods, all of which are in a single enclosing class, named DiverseArray (not shown). The first method returns the sum of the values of a one-dimensional array; the second method returns an array that represents the sums of the rows of a two-dimensional array; and the third method analyzes row sums.\n",
    "\n",
    "\n",
    "(a) Write a static method arraySum that calculates and returns the sum of the entries in a specified one-dimensional array. The following example shows an array arr1 and the value returned by a call to arraySum.\n",
    "\n",
    "Complete method arraySum below.\n",
    "```\n",
    "/ * * Returns the sum of the entries in the one-dimensional array arr.\n",
    "\n",
    "* /\n",
    "\n",
    "public static int arraySum (int [ ] arr)\n",
    "```"
   ]
  },
  {
   "cell_type": "code",
   "execution_count": 7,
   "metadata": {},
   "outputs": [
    {
     "name": "stdout",
     "output_type": "stream",
     "text": [
      "Sum of arr1: 15"
     ]
    }
   ],
   "source": [
    "public class FRQ1{\n",
    "    public static int arraySum(int[] arr1){\n",
    "        int total = 0;\n",
    "        for(int i : arr1){\n",
    "            total += i;\n",
    "        }\n",
    "        return total;\n",
    "    }\n",
    "\n",
    "    public static void main(String[] args){\n",
    "        // testing arraySum\n",
    "        int[] arr1 = {1,2,3,4,5};\n",
    "        System.out.print(\"Sum of arr1: \");\n",
    "        System.out.print(FRQ1.arraySum(arr1));\n",
    "    }\n",
    "}\n",
    "\n",
    "FRQ1.main(null);"
   ]
  },
  {
   "cell_type": "markdown",
   "metadata": {},
   "source": [
    "(b) Write a static method rowSums that calculates the sums of each of the rows in a given two-dimensional array and returns these sums in a one-dimensional array. The method has one parameter, a two-dimensional array arr2D of int values. The array is in row-major order: arr2D [ r ] [ c ] is the entry at row r and column c. The method returns a one-dimensional array with one entry for each row of arr2D such that each entry is the sum of the corresponding row in arr2D. As a reminder, each row of a two-dimensional array is a one-dimensional array.\n",
    "\n",
    "For example, if mat1 is the array represented by the following table, the call rowSums(mat1) returns the array {16, 32, 28, 20}."
   ]
  },
  {
   "cell_type": "markdown",
   "metadata": {},
   "source": [
    "Methods written in this question:\n",
    "\n",
    "* public static int arraySum(int[] arr)\n",
    "* public static int[] rowSums(int[][] arr2D)\n",
    "* public static boolean isDiverse(int[][] arr2D)"
   ]
  },
  {
   "cell_type": "markdown",
   "metadata": {},
   "source": [
    "Assume that arraySum works as specified, regardless of what you wrote in part (a). You must use arraySum appropriately to receive full credit. Complete method rowSums below.\n",
    "\n",
    "```\n",
    "/ * * Returns a one-dimensional array in which the entry at index k is the sum of\n",
    "\n",
    "* the entries of row k of the two-dimensional array arr2D.\n",
    "\n",
    "* /\n",
    "\n",
    "public static int [ ] rowSums(int [ ] [ ] arr2D)\n",
    "```"
   ]
  },
  {
   "cell_type": "code",
   "execution_count": 9,
   "metadata": {},
   "outputs": [
    {
     "name": "stdout",
     "output_type": "stream",
     "text": [
      "15 40 28 20 "
     ]
    }
   ],
   "source": [
    "public class FRQ1{\n",
    "    public static int arraySum(int[] arr1){\n",
    "        int total = 0;\n",
    "        for(int i : arr1){\n",
    "            total += i;\n",
    "        }\n",
    "        return total;\n",
    "    }\n",
    "\n",
    "    public static int[] rowSums(int[][] arr2D){\n",
    "        int[] rows = new int[arr2D.length];\n",
    "\n",
    "        for(int i = 0; i < arr2D.length; i++){\n",
    "            rows[i] = arraySum(arr2D[i]);\n",
    "        }\n",
    "\n",
    "        return rows;\n",
    "    }\n",
    "\n",
    "    public static void main(String[] args){\n",
    "        // testing rowSums\n",
    "        int[][] mat1 = {\n",
    "            {1,2,3,4,5},\n",
    "            {6,7,8,9,10},\n",
    "            {5,3,5,9,6},\n",
    "            {7,6,4,2,1}\n",
    "        };\n",
    "\n",
    "        int[]  mat1Sums = FRQ1.rowSums(mat1);\n",
    "        for(int matRows : mat1Sums){\n",
    "            System.out.print(matRows + \" \");\n",
    "        }\n",
    "    }\n",
    "}\n",
    "\n",
    "FRQ1.main(null);"
   ]
  },
  {
   "cell_type": "markdown",
   "metadata": {},
   "source": [
    "(c) A two-dimensional array is diverse if no two of its rows have entries that sum to the same value. In the following examples, the array mat1 is diverse because each row sum is different, but the array mat2 is not diverse because the first and last rows have the same sum.\n",
    "\n",
    "Write a static method isDiverse that determines whether or not a given two-dimensional array is diverse. The method has one parameter: a two-dimensional array arr2D of int values. The method should return true if all the row sums in the given array are unique; otherwise, it should return false. In the arrays shown above, the call isDiverse (mat1) returns true and the call isDiverse(mat2) returns false."
   ]
  },
  {
   "cell_type": "markdown",
   "metadata": {},
   "source": [
    "Methods written in this question:\n",
    "\n",
    "* public static int arraySum(int[] arr)\n",
    "* public static int[] rowSums(int[][] arr2D)\n",
    "* public static boolean isDiverse(int[][] arr2D)"
   ]
  },
  {
   "cell_type": "markdown",
   "metadata": {},
   "source": [
    "Assume that arraySum and rowSums work as specified, regardless of what you wrote in parts (a) and(b). You must use rowSums appropriately to receive full credit.\n",
    "Complete method isDiverse below.\n",
    "\n",
    "```\n",
    "/ * * Returns true if all rows in arr2D have different row sums;\n",
    "* false otherwise.\n",
    "\n",
    "* /public static boolean isDiverse(int [ ] [ ] arr2D)\n",
    "```"
   ]
  },
  {
   "cell_type": "markdown",
   "metadata": {},
   "source": []
  },
  {
   "cell_type": "code",
   "execution_count": 11,
   "metadata": {},
   "outputs": [
    {
     "name": "stdout",
     "output_type": "stream",
     "text": [
      "mat1 Diverse? true\n",
      "mat1 Diverse? false\n"
     ]
    }
   ],
   "source": [
    "public class FRQ1{\n",
    "    public static int arraySum(int[] arr1){\n",
    "        int total = 0;\n",
    "        for(int i : arr1){\n",
    "            total += i;\n",
    "        }\n",
    "        return total;\n",
    "    }\n",
    "\n",
    "    public static int[] remove(int[] array, int index){\n",
    "        int[] narray = new int[array.length-1];\n",
    "        for(int i = 0, k=0; i<array.length; i++){\n",
    "            if(i == index){\n",
    "                continue;\n",
    "            }\n",
    "            narray[k++] = array[i];\n",
    "        }\n",
    "\n",
    "        return narray;\n",
    "    }\n",
    "\n",
    "    public static int[] rowSums(int[][] arr2D){\n",
    "        int[] rows = new int[arr2D.length];\n",
    "\n",
    "        for(int i = 0; i < arr2D.length; i++){\n",
    "            rows[i] = arraySum(arr2D[i]);\n",
    "        }\n",
    "\n",
    "        return rows;\n",
    "    }\n",
    "\n",
    "    public static boolean isDiverse(int[][] arr2D){\n",
    "        int[] sums = rowSums(arr2D);\n",
    "\n",
    "        for(int i=0; i < sums.length; i++){\n",
    "            int[] nar = FRQ1.remove(sums, i);\n",
    "            for (int j=0; j<nar.length; j++){\n",
    "                if(sums[i] == nar[j]){\n",
    "                    return false;\n",
    "                }\n",
    "            }\n",
    "        }\n",
    "\n",
    "        return true;\n",
    "    }\n",
    "\n",
    "    public static void main(String[] args){\n",
    "        // testing rowSums\n",
    "        int[][] mat1 = {\n",
    "            {1,2,3,4,5},\n",
    "            {10,10,4,6,2},\n",
    "            {5,3,5,9,6},\n",
    "            {7,6,4,2,1}\n",
    "        };\n",
    "\n",
    "        int[][] mat2 = {\n",
    "            {1, 1, 5, 3, 4},\n",
    "            {12, 7, 6, 1, 9},\n",
    "            {8, 11, 10, 2, 5},\n",
    "            {3, 2, 3, 0 , 6}\n",
    "        };\n",
    "\n",
    "        System.out.println(\"mat1 Diverse? \" + isDiverse(mat1));\n",
    "        System.out.println(\"mat1 Diverse? \" + isDiverse(mat2));\n",
    "\n",
    "    }\n",
    "\n",
    "}\n",
    "\n",
    "FRQ1.main(null);\n"
   ]
  },
  {
   "cell_type": "code",
   "execution_count": null,
   "metadata": {},
   "outputs": [],
   "source": []
  }
 ],
 "metadata": {
  "kernelspec": {
   "display_name": "Java",
   "language": "java",
   "name": "java"
  },
  "language_info": {
   "codemirror_mode": "java",
   "file_extension": ".jshell",
   "mimetype": "text/x-java-source",
   "name": "java",
   "pygments_lexer": "java",
   "version": "20.0.2+9-78"
  },
  "orig_nbformat": 4
 },
 "nbformat": 4,
 "nbformat_minor": 2
}
